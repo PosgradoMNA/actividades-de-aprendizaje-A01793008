{
  "nbformat": 4,
  "nbformat_minor": 0,
  "metadata": {
    "kernelspec": {
      "display_name": "Python 3",
      "language": "python",
      "name": "python3"
    },
    "language_info": {
      "codemirror_mode": {
        "name": "ipython",
        "version": 3
      },
      "file_extension": ".py",
      "mimetype": "text/x-python",
      "name": "python",
      "nbconvert_exporter": "python",
      "pygments_lexer": "ipython3",
      "version": "3.7.7"
    },
    "colab": {
      "provenance": [],
      "toc_visible": true,
      "include_colab_link": true
    },
    "accelerator": "GPU"
  },
  "cells": [
    {
      "cell_type": "markdown",
      "metadata": {
        "id": "view-in-github",
        "colab_type": "text"
      },
      "source": [
        "<a href=\"https://colab.research.google.com/github/PosgradoMNA/actividades-de-aprendizaje-A01793008/blob/main/Actividades/TecMty_Regresion_lineal_polinomial_A01793008.ipynb\" target=\"_parent\"><img src=\"https://colab.research.google.com/assets/colab-badge.svg\" alt=\"Open In Colab\"/></a>"
      ]
    },
    {
      "cell_type": "markdown",
      "source": [
        "# Actividad Semanal 7 - Regresiones\n",
        "## Maestría en Inteligencia Artificial Aplicada\n",
        "### Curso: Ciencia y analítica de datos\n",
        "### Tecnológico de Monterrey\n",
        "### **Nombre del estudiante:** Omar Nayib García Sabag\n",
        "### **Matrícula:** A01793008"
      ],
      "metadata": {
        "id": "4OBVoCnDZwDw"
      }
    },
    {
      "cell_type": "markdown",
      "metadata": {
        "id": "WUO-kdryVQwK"
      },
      "source": [
        "# Linear Models\n"
      ]
    },
    {
      "cell_type": "markdown",
      "metadata": {
        "id": "u3ytB4LpVQwM"
      },
      "source": [
        "- In supervised learning, the training data fed to the algorithm includes the desired solutions, called labels. \n",
        "- In **regression**, the labels are continuous quantities.\n",
        "- Linear models predict by computing a weighted sum of input features plus a bias term."
      ]
    },
    {
      "cell_type": "code",
      "metadata": {
        "id": "HMp_I4Y6VQwN"
      },
      "source": [
        "import numpy as np\n",
        "%matplotlib inline\n",
        "import matplotlib\n",
        "import matplotlib.pyplot as plt\n",
        "import pandas as pd\n",
        "import seaborn as sns\n",
        "# to make this notebook's output stable across runs\n",
        "np.random.seed(42)"
      ],
      "execution_count": 1,
      "outputs": []
    },
    {
      "cell_type": "code",
      "source": [
        "5-2"
      ],
      "metadata": {
        "colab": {
          "base_uri": "https://localhost:8080/"
        },
        "id": "exg6xSYf3F5D",
        "outputId": "c5b89911-b6b3-4eff-ed2e-2911ffa69d35"
      },
      "execution_count": 2,
      "outputs": [
        {
          "output_type": "execute_result",
          "data": {
            "text/plain": [
              "3"
            ]
          },
          "metadata": {},
          "execution_count": 2
        }
      ]
    },
    {
      "cell_type": "markdown",
      "metadata": {
        "id": "szpzFXgiVQwN"
      },
      "source": [
        "## Simple Linear Regression\n",
        "\n",
        "Simple linear regression equation:\n",
        "\n",
        "$y = ax + b$\n",
        "<br>\n",
        "$a$: slope\n",
        "<br>\n",
        "$b$: intercept\n",
        "\n",
        "Generate linear-looking data with the equation:\n",
        "\n",
        "$y = 3X + 4 + noise$"
      ]
    },
    {
      "cell_type": "code",
      "metadata": {
        "colab": {
          "base_uri": "https://localhost:8080/"
        },
        "id": "mitJFYeiMQqD",
        "outputId": "132b5345-a045-41bc-81ed-71c7e3336bf7"
      },
      "source": [
        "np.random.rand(100, 1)"
      ],
      "execution_count": 3,
      "outputs": [
        {
          "output_type": "execute_result",
          "data": {
            "text/plain": [
              "array([[0.37454012],\n",
              "       [0.95071431],\n",
              "       [0.73199394],\n",
              "       [0.59865848],\n",
              "       [0.15601864],\n",
              "       [0.15599452],\n",
              "       [0.05808361],\n",
              "       [0.86617615],\n",
              "       [0.60111501],\n",
              "       [0.70807258],\n",
              "       [0.02058449],\n",
              "       [0.96990985],\n",
              "       [0.83244264],\n",
              "       [0.21233911],\n",
              "       [0.18182497],\n",
              "       [0.18340451],\n",
              "       [0.30424224],\n",
              "       [0.52475643],\n",
              "       [0.43194502],\n",
              "       [0.29122914],\n",
              "       [0.61185289],\n",
              "       [0.13949386],\n",
              "       [0.29214465],\n",
              "       [0.36636184],\n",
              "       [0.45606998],\n",
              "       [0.78517596],\n",
              "       [0.19967378],\n",
              "       [0.51423444],\n",
              "       [0.59241457],\n",
              "       [0.04645041],\n",
              "       [0.60754485],\n",
              "       [0.17052412],\n",
              "       [0.06505159],\n",
              "       [0.94888554],\n",
              "       [0.96563203],\n",
              "       [0.80839735],\n",
              "       [0.30461377],\n",
              "       [0.09767211],\n",
              "       [0.68423303],\n",
              "       [0.44015249],\n",
              "       [0.12203823],\n",
              "       [0.49517691],\n",
              "       [0.03438852],\n",
              "       [0.9093204 ],\n",
              "       [0.25877998],\n",
              "       [0.66252228],\n",
              "       [0.31171108],\n",
              "       [0.52006802],\n",
              "       [0.54671028],\n",
              "       [0.18485446],\n",
              "       [0.96958463],\n",
              "       [0.77513282],\n",
              "       [0.93949894],\n",
              "       [0.89482735],\n",
              "       [0.59789998],\n",
              "       [0.92187424],\n",
              "       [0.0884925 ],\n",
              "       [0.19598286],\n",
              "       [0.04522729],\n",
              "       [0.32533033],\n",
              "       [0.38867729],\n",
              "       [0.27134903],\n",
              "       [0.82873751],\n",
              "       [0.35675333],\n",
              "       [0.28093451],\n",
              "       [0.54269608],\n",
              "       [0.14092422],\n",
              "       [0.80219698],\n",
              "       [0.07455064],\n",
              "       [0.98688694],\n",
              "       [0.77224477],\n",
              "       [0.19871568],\n",
              "       [0.00552212],\n",
              "       [0.81546143],\n",
              "       [0.70685734],\n",
              "       [0.72900717],\n",
              "       [0.77127035],\n",
              "       [0.07404465],\n",
              "       [0.35846573],\n",
              "       [0.11586906],\n",
              "       [0.86310343],\n",
              "       [0.62329813],\n",
              "       [0.33089802],\n",
              "       [0.06355835],\n",
              "       [0.31098232],\n",
              "       [0.32518332],\n",
              "       [0.72960618],\n",
              "       [0.63755747],\n",
              "       [0.88721274],\n",
              "       [0.47221493],\n",
              "       [0.11959425],\n",
              "       [0.71324479],\n",
              "       [0.76078505],\n",
              "       [0.5612772 ],\n",
              "       [0.77096718],\n",
              "       [0.4937956 ],\n",
              "       [0.52273283],\n",
              "       [0.42754102],\n",
              "       [0.02541913],\n",
              "       [0.10789143]])"
            ]
          },
          "metadata": {},
          "execution_count": 3
        }
      ]
    },
    {
      "cell_type": "code",
      "metadata": {
        "colab": {
          "base_uri": "https://localhost:8080/",
          "height": 265
        },
        "id": "QyubE1VEVQwN",
        "outputId": "f43f2fa9-e045-49fe-88df-cd1ad0427382"
      },
      "source": [
        "X = 2*np.random.rand(100, 1)\n",
        "y = 4 + 3 * X + np.random.randn(100, 1)\n",
        "plt.scatter(X, y);"
      ],
      "execution_count": 4,
      "outputs": [
        {
          "output_type": "display_data",
          "data": {
            "text/plain": [
              "<Figure size 432x288 with 1 Axes>"
            ],
            "image/png": "[encoded data removed]"
          },
          "metadata": {
            "needs_background": "light"
          }
        }
      ]
    },
    {
      "cell_type": "code",
      "source": [
        "import pandas as pd\n",
        "pd.DataFrame(y)"
      ],
      "metadata": {
        "colab": {
          "base_uri": "https://localhost:8080/",
          "height": 424
        },
        "id": "M5kaENJ4bZY5",
        "outputId": "cd473b93-3030-4bc1-8e94-58951c260a5c"
      },
      "execution_count": 5,
      "outputs": [
        {
          "output_type": "execute_result",
          "data": {
            "text/plain": [
              "            0\n",
              "0    3.508550\n",
              "1    8.050716\n",
              "2    6.179208\n",
              "3    6.337073\n",
              "4   11.311173\n",
              "..        ...\n",
              "95   5.441928\n",
              "96  10.121188\n",
              "97   9.787643\n",
              "98   8.061635\n",
              "99   9.597115\n",
              "\n",
              "[100 rows x 1 columns]"
            ],
            "text/html": [
              "\n",
              "  <div id=\"df-3b17b093-9139-43a1-b28f-70b7f923d0df\">\n",
              "    <div class=\"colab-df-container\">\n",
              "      <div>\n",
              "<style scoped>\n",
              "    .dataframe tbody tr th:only-of-type {\n",
              "        vertical-align: middle;\n",
              "    }\n",
              "\n",
              "    .dataframe tbody tr th {\n",
              "        vertical-align: top;\n",
              "    }\n",
              "\n",
              "    .dataframe thead th {\n",
              "        text-align: right;\n",
              "    }\n",
              "</style>\n",
              "<table border=\"1\" class=\"dataframe\">\n",
              "  <thead>\n",
              "    <tr style=\"text-align: right;\">\n",
              "      <th></th>\n",
              "      <th>0</th>\n",
              "    </tr>\n",
              "  </thead>\n",
              "  <tbody>\n",
              "    <tr>\n",
              "      <th>0</th>\n",
              "      <td>3.508550</td>\n",
              "    </tr>\n",
              "    <tr>\n",
              "      <th>1</th>\n",
              "      <td>8.050716</td>\n",
              "    </tr>\n",
              "    <tr>\n",
              "      <th>2</th>\n",
              "      <td>6.179208</td>\n",
              "    </tr>\n",
              "    <tr>\n",
              "      <th>3</th>\n",
              "      <td>6.337073</td>\n",
              "    </tr>\n",
              "    <tr>\n",
              "      <th>4</th>\n",
              "      <td>11.311173</td>\n",
              "    </tr>\n",
              "    <tr>\n",
              "      <th>...</th>\n",
              "      <td>...</td>\n",
              "    </tr>\n",
              "    <tr>\n",
              "      <th>95</th>\n",
              "      <td>5.441928</td>\n",
              "    </tr>\n",
              "    <tr>\n",
              "      <th>96</th>\n",
              "      <td>10.121188</td>\n",
              "    </tr>\n",
              "    <tr>\n",
              "      <th>97</th>\n",
              "      <td>9.787643</td>\n",
              "    </tr>\n",
              "    <tr>\n",
              "      <th>98</th>\n",
              "      <td>8.061635</td>\n",
              "    </tr>\n",
              "    <tr>\n",
              "      <th>99</th>\n",
              "      <td>9.597115</td>\n",
              "    </tr>\n",
              "  </tbody>\n",
              "</table>\n",
              "<p>100 rows × 1 columns</p>\n",
              "</div>\n",
              "      <button class=\"colab-df-convert\" onclick=\"convertToInteractive('df-3b17b093-9139-43a1-b28f-70b7f923d0df')\"\n",
              "              title=\"Convert this dataframe to an interactive table.\"\n",
              "              style=\"display:none;\">\n",
              "        \n",
              "  <svg xmlns=\"http://www.w3.org/2000/svg\" height=\"24px\"viewBox=\"0 0 24 24\"\n",
              "       width=\"24px\">\n",
              "    <path d=\"M0 0h24v24H0V0z\" fill=\"none\"/>\n",
              "    <path d=\"M18.56 5.44l.94 2.06.94-2.06 2.06-.94-2.06-.94-.94-2.06-.94 2.06-2.06.94zm-11 1L8.5 8.5l.94-2.06 2.06-.94-2.06-.94L8.5 2.5l-.94 2.06-2.06.94zm10 10l.94 2.06.94-2.06 2.06-.94-2.06-.94-.94-2.06-.94 2.06-2.06.94z\"/><path d=\"M17.41 7.96l-1.37-1.37c-.4-.4-.92-.59-1.43-.59-.52 0-1.04.2-1.43.59L10.3 9.45l-7.72 7.72c-.78.78-.78 2.05 0 2.83L4 21.41c.39.39.9.59 1.41.59.51 0 1.02-.2 1.41-.59l7.78-7.78 2.81-2.81c.8-.78.8-2.07 0-2.86zM5.41 20L4 18.59l7.72-7.72 1.47 1.35L5.41 20z\"/>\n",
              "  </svg>\n",
              "      </button>\n",
              "      \n",
              "  <style>\n",
              "    .colab-df-container {\n",
              "      display:flex;\n",
              "      flex-wrap:wrap;\n",
              "      gap: 12px;\n",
              "    }\n",
              "\n",
              "    .colab-df-convert {\n",
              "      background-color: #E8F0FE;\n",
              "      border: none;\n",
              "      border-radius: 50%;\n",
              "      cursor: pointer;\n",
              "      display: none;\n",
              "      fill: #1967D2;\n",
              "      height: 32px;\n",
              "      padding: 0 0 0 0;\n",
              "      width: 32px;\n",
              "    }\n",
              "\n",
              "    .colab-df-convert:hover {\n",
              "      background-color: #E2EBFA;\n",
              "      box-shadow: 0px 1px 2px rgba(60, 64, 67, 0.3), 0px 1px 3px 1px rgba(60, 64, 67, 0.15);\n",
              "      fill: #174EA6;\n",
              "    }\n",
              "\n",
              "    [theme=dark] .colab-df-convert {\n",
              "      background-color: #3B4455;\n",
              "      fill: #D2E3FC;\n",
              "    }\n",
              "\n",
              "    [theme=dark] .colab-df-convert:hover {\n",
              "      background-color: #434B5C;\n",
              "      box-shadow: 0px 1px 3px 1px rgba(0, 0, 0, 0.15);\n",
              "      filter: drop-shadow(0px 1px 2px rgba(0, 0, 0, 0.3));\n",
              "      fill: #FFFFFF;\n",
              "    }\n",
              "  </style>\n",
              "\n",
              "      <script>\n",
              "        const buttonEl =\n",
              "          document.querySelector('#df-3b17b093-9139-43a1-b28f-70b7f923d0df button.colab-df-convert');\n",
              "        buttonEl.style.display =\n",
              "          google.colab.kernel.accessAllowed ? 'block' : 'none';\n",
              "\n",
              "        async function convertToInteractive(key) {\n",
              "          const element = document.querySelector('#df-3b17b093-9139-43a1-b28f-70b7f923d0df');\n",
              "          const dataTable =\n",
              "            await google.colab.kernel.invokeFunction('convertToInteractive',\n",
              "                                                     [key], {});\n",
              "          if (!dataTable) return;\n",
              "\n",
              "          const docLinkHtml = 'Like what you see? Visit the ' +\n",
              "            '<a target=\"_blank\" href=https://colab.research.google.com/notebooks/data_table.ipynb>data table notebook</a>'\n",
              "            + ' to learn more about interactive tables.';\n",
              "          element.innerHTML = '';\n",
              "          dataTable['output_type'] = 'display_data';\n",
              "          await google.colab.output.renderOutput(dataTable, element);\n",
              "          const docLink = document.createElement('div');\n",
              "          docLink.innerHTML = docLinkHtml;\n",
              "          element.appendChild(docLink);\n",
              "        }\n",
              "      </script>\n",
              "    </div>\n",
              "  </div>\n",
              "  "
            ]
          },
          "metadata": {},
          "execution_count": 5
        }
      ]
    },
    {
      "cell_type": "code",
      "metadata": {
        "colab": {
          "base_uri": "https://localhost:8080/"
        },
        "id": "x6XGt_iAVQwO",
        "outputId": "fedb28e6-7abc-4387-c708-09b3282c2fb6"
      },
      "source": [
        "from sklearn.linear_model import LinearRegression\n",
        "\n",
        "linear_reg = LinearRegression(fit_intercept=True)\n",
        "linear_reg.fit(X, y)"
      ],
      "execution_count": 6,
      "outputs": [
        {
          "output_type": "execute_result",
          "data": {
            "text/plain": [
              "LinearRegression()"
            ]
          },
          "metadata": {},
          "execution_count": 6
        }
      ]
    },
    {
      "cell_type": "markdown",
      "metadata": {
        "id": "Hnm9YgjbVQwO"
      },
      "source": [
        "Plot the model's predictions:"
      ]
    },
    {
      "cell_type": "code",
      "metadata": {
        "id": "9NtrLfGGVQwP"
      },
      "source": [
        "#X_fit[]"
      ],
      "execution_count": 7,
      "outputs": []
    },
    {
      "cell_type": "code",
      "metadata": {
        "colab": {
          "base_uri": "https://localhost:8080/",
          "height": 287
        },
        "id": "1ZTT31igVQwP",
        "outputId": "9a8324eb-a271-49d8-925a-0f3650b4e186"
      },
      "source": [
        "# construct best fit line\n",
        "X_fit = np.linspace(0, 2, 100)\n",
        "y_fit = linear_reg.predict(X_fit[:, np.newaxis])\n",
        "\n",
        "plt.scatter(X, y)\n",
        "plt.plot(X_fit, y_fit, \"r-\", linewidth=2, label=\"Predictions\")\n",
        "plt.xlabel(\"$X$\", fontsize=18)\n",
        "plt.ylabel(\"$y$\", rotation=0, fontsize=18)\n",
        "plt.legend(loc=\"upper left\", fontsize=14);"
      ],
      "execution_count": 8,
      "outputs": [
        {
          "output_type": "display_data",
          "data": {
            "text/plain": [
              "<Figure size 432x288 with 1 Axes>"
            ],
            "image/png": "[encoded data removed]"
          },
          "metadata": {
            "needs_background": "light"
          }
        }
      ]
    },
    {
      "cell_type": "markdown",
      "metadata": {
        "id": "kIfOsEcWVQwP"
      },
      "source": [
        "Predictions are a good fit."
      ]
    },
    {
      "cell_type": "markdown",
      "metadata": {
        "id": "z2VYUeGrVQwQ"
      },
      "source": [
        "Generate new data to make predictions with the model:"
      ]
    },
    {
      "cell_type": "code",
      "metadata": {
        "colab": {
          "base_uri": "https://localhost:8080/"
        },
        "id": "FuEd0Wp0VQwQ",
        "outputId": "34aced6c-4268-40b8-fdb8-74ccdb915d56"
      },
      "source": [
        "X_new = np.array([[0], [2]])\n",
        "X_new"
      ],
      "execution_count": 9,
      "outputs": [
        {
          "output_type": "execute_result",
          "data": {
            "text/plain": [
              "array([[0],\n",
              "       [2]])"
            ]
          },
          "metadata": {},
          "execution_count": 9
        }
      ]
    },
    {
      "cell_type": "code",
      "metadata": {
        "colab": {
          "base_uri": "https://localhost:8080/"
        },
        "id": "lLCnLm7_VQwQ",
        "outputId": "ca118e15-cd6b-4533-ed91-8e677df63c1a"
      },
      "source": [
        "X_new.shape"
      ],
      "execution_count": 10,
      "outputs": [
        {
          "output_type": "execute_result",
          "data": {
            "text/plain": [
              "(2, 1)"
            ]
          },
          "metadata": {},
          "execution_count": 10
        }
      ]
    },
    {
      "cell_type": "code",
      "metadata": {
        "colab": {
          "base_uri": "https://localhost:8080/"
        },
        "id": "zJIzUfZsVQwQ",
        "outputId": "7eaedc7e-ec75-4c17-a53a-38ad4d36f59c"
      },
      "source": [
        "y_new = linear_reg.predict(X_new)\n",
        "y_new"
      ],
      "execution_count": 11,
      "outputs": [
        {
          "output_type": "execute_result",
          "data": {
            "text/plain": [
              "array([[ 3.74406122],\n",
              "       [10.47517611]])"
            ]
          },
          "metadata": {},
          "execution_count": 11
        }
      ]
    },
    {
      "cell_type": "code",
      "metadata": {
        "colab": {
          "base_uri": "https://localhost:8080/"
        },
        "id": "ICiEnkbdVQwQ",
        "outputId": "606925cf-12dd-43fb-e506-2a4018b1e6fa"
      },
      "source": [
        " linear_reg.coef_, linear_reg.intercept_"
      ],
      "execution_count": 12,
      "outputs": [
        {
          "output_type": "execute_result",
          "data": {
            "text/plain": [
              "(array([[3.36555744]]), array([3.74406122]))"
            ]
          },
          "metadata": {},
          "execution_count": 12
        }
      ]
    },
    {
      "cell_type": "markdown",
      "metadata": {
        "id": "iBXzOecgVQwR"
      },
      "source": [
        "The model estimates:\n",
        "\n",
        "$\\hat{y} = 3.36X + 3.74$"
      ]
    },
    {
      "cell_type": "code",
      "metadata": {
        "id": "ZNvipq0wQYfj"
      },
      "source": [
        "#|VENTAS|GANANCIAS|\n",
        "#COEF*VENTAS+B\n",
        "#|VENTAS|COMPRAS|GANANCIAS|\n",
        "#COEF1*X1+COEF2*X2+B=Y"
      ],
      "execution_count": 13,
      "outputs": []
    },
    {
      "cell_type": "markdown",
      "metadata": {
        "id": "_Rv-RJSnVQwR"
      },
      "source": [
        "## Polynomial Regression\n",
        "\n",
        "If data is more complex than a straight line, you can use a linear model ti fit non-linear data adding powers of each feature as new features and then train a linear model on the extended set of features. "
      ]
    },
    {
      "cell_type": "markdown",
      "metadata": {
        "id": "dPrpAVsZVQwR"
      },
      "source": [
        "$$y = a_0 + a_1x_1 + a_2x_2 + a_3x_3 + ...$$ to $$y = a_0 + a_1x + a_2x^2 + a_3x^3+ ...$$ "
      ]
    },
    {
      "cell_type": "markdown",
      "metadata": {
        "id": "9kjMWzEfVQwR"
      },
      "source": [
        "This is still a linear model, the linearity refers to the fact that the coefficients never multiply or divide each other."
      ]
    },
    {
      "cell_type": "markdown",
      "metadata": {
        "id": "2M3fp_CSVQwR"
      },
      "source": [
        "To generate polynomial data we use the function:\n",
        "\n",
        "$y = 0.50X^2 + X + 2 + noise$"
      ]
    },
    {
      "cell_type": "code",
      "metadata": {
        "id": "sSrueMnPVQwR"
      },
      "source": [
        "# generate non-linear data e.g. quadratic equation\n",
        "m = 100\n",
        "X = 6 * np.random.rand(m, 1) - 3\n",
        "y = 0.5 * X**2 + X + 2 + np.random.randn(m, 1)"
      ],
      "execution_count": 14,
      "outputs": []
    },
    {
      "cell_type": "code",
      "metadata": {
        "colab": {
          "base_uri": "https://localhost:8080/",
          "height": 0
        },
        "id": "GNQQoXkMVQwS",
        "outputId": "755d3805-ca45-439b-b40e-633bdef18c0f"
      },
      "source": [
        "plt.plot(X, y, \"b.\")\n",
        "plt.xlabel(\"$x_1$\", fontsize=18)\n",
        "plt.ylabel(\"$y$\", rotation=0, fontsize=18)\n",
        "plt.axis([-3, 3, 0, 10]);"
      ],
      "execution_count": 15,
      "outputs": [
        {
          "output_type": "display_data",
          "data": {
            "text/plain": [
              "<Figure size 432x288 with 1 Axes>"
            ],
            "image/png": "[encoded data removed]"
          },
          "metadata": {
            "needs_background": "light"
          }
        }
      ]
    },
    {
      "cell_type": "code",
      "source": [
        "import pandas as pd\n",
        "pd.DataFrame(y)"
      ],
      "metadata": {
        "id": "YtaK_dsidNcP",
        "outputId": "c545e06f-5d31-4998-c7af-d264140d4c2b",
        "colab": {
          "base_uri": "https://localhost:8080/",
          "height": 0
        }
      },
      "execution_count": 16,
      "outputs": [
        {
          "output_type": "execute_result",
          "data": {
            "text/plain": [
              "           0\n",
              "0   8.529240\n",
              "1   3.768929\n",
              "2   3.354423\n",
              "3   2.747935\n",
              "4   0.808458\n",
              "..       ...\n",
              "95  5.346771\n",
              "96  6.338229\n",
              "97  3.488785\n",
              "98  1.372002\n",
              "99 -0.072150\n",
              "\n",
              "[100 rows x 1 columns]"
            ],
            "text/html": [
              "\n",
              "  <div id=\"df-1b54673f-577b-470e-a80f-ebccef4ba68d\">\n",
              "    <div class=\"colab-df-container\">\n",
              "      <div>\n",
              "<style scoped>\n",
              "    .dataframe tbody tr th:only-of-type {\n",
              "        vertical-align: middle;\n",
              "    }\n",
              "\n",
              "    .dataframe tbody tr th {\n",
              "        vertical-align: top;\n",
              "    }\n",
              "\n",
              "    .dataframe thead th {\n",
              "        text-align: right;\n",
              "    }\n",
              "</style>\n",
              "<table border=\"1\" class=\"dataframe\">\n",
              "  <thead>\n",
              "    <tr style=\"text-align: right;\">\n",
              "      <th></th>\n",
              "      <th>0</th>\n",
              "    </tr>\n",
              "  </thead>\n",
              "  <tbody>\n",
              "    <tr>\n",
              "      <th>0</th>\n",
              "      <td>8.529240</td>\n",
              "    </tr>\n",
              "    <tr>\n",
              "      <th>1</th>\n",
              "      <td>3.768929</td>\n",
              "    </tr>\n",
              "    <tr>\n",
              "      <th>2</th>\n",
              "      <td>3.354423</td>\n",
              "    </tr>\n",
              "    <tr>\n",
              "      <th>3</th>\n",
              "      <td>2.747935</td>\n",
              "    </tr>\n",
              "    <tr>\n",
              "      <th>4</th>\n",
              "      <td>0.808458</td>\n",
              "    </tr>\n",
              "    <tr>\n",
              "      <th>...</th>\n",
              "      <td>...</td>\n",
              "    </tr>\n",
              "    <tr>\n",
              "      <th>95</th>\n",
              "      <td>5.346771</td>\n",
              "    </tr>\n",
              "    <tr>\n",
              "      <th>96</th>\n",
              "      <td>6.338229</td>\n",
              "    </tr>\n",
              "    <tr>\n",
              "      <th>97</th>\n",
              "      <td>3.488785</td>\n",
              "    </tr>\n",
              "    <tr>\n",
              "      <th>98</th>\n",
              "      <td>1.372002</td>\n",
              "    </tr>\n",
              "    <tr>\n",
              "      <th>99</th>\n",
              "      <td>-0.072150</td>\n",
              "    </tr>\n",
              "  </tbody>\n",
              "</table>\n",
              "<p>100 rows × 1 columns</p>\n",
              "</div>\n",
              "      <button class=\"colab-df-convert\" onclick=\"convertToInteractive('df-1b54673f-577b-470e-a80f-ebccef4ba68d')\"\n",
              "              title=\"Convert this dataframe to an interactive table.\"\n",
              "              style=\"display:none;\">\n",
              "        \n",
              "  <svg xmlns=\"http://www.w3.org/2000/svg\" height=\"24px\"viewBox=\"0 0 24 24\"\n",
              "       width=\"24px\">\n",
              "    <path d=\"M0 0h24v24H0V0z\" fill=\"none\"/>\n",
              "    <path d=\"M18.56 5.44l.94 2.06.94-2.06 2.06-.94-2.06-.94-.94-2.06-.94 2.06-2.06.94zm-11 1L8.5 8.5l.94-2.06 2.06-.94-2.06-.94L8.5 2.5l-.94 2.06-2.06.94zm10 10l.94 2.06.94-2.06 2.06-.94-2.06-.94-.94-2.06-.94 2.06-2.06.94z\"/><path d=\"M17.41 7.96l-1.37-1.37c-.4-.4-.92-.59-1.43-.59-.52 0-1.04.2-1.43.59L10.3 9.45l-7.72 7.72c-.78.78-.78 2.05 0 2.83L4 21.41c.39.39.9.59 1.41.59.51 0 1.02-.2 1.41-.59l7.78-7.78 2.81-2.81c.8-.78.8-2.07 0-2.86zM5.41 20L4 18.59l7.72-7.72 1.47 1.35L5.41 20z\"/>\n",
              "  </svg>\n",
              "      </button>\n",
              "      \n",
              "  <style>\n",
              "    .colab-df-container {\n",
              "      display:flex;\n",
              "      flex-wrap:wrap;\n",
              "      gap: 12px;\n",
              "    }\n",
              "\n",
              "    .colab-df-convert {\n",
              "      background-color: #E8F0FE;\n",
              "      border: none;\n",
              "      border-radius: 50%;\n",
              "      cursor: pointer;\n",
              "      display: none;\n",
              "      fill: #1967D2;\n",
              "      height: 32px;\n",
              "      padding: 0 0 0 0;\n",
              "      width: 32px;\n",
              "    }\n",
              "\n",
              "    .colab-df-convert:hover {\n",
              "      background-color: #E2EBFA;\n",
              "      box-shadow: 0px 1px 2px rgba(60, 64, 67, 0.3), 0px 1px 3px 1px rgba(60, 64, 67, 0.15);\n",
              "      fill: #174EA6;\n",
              "    }\n",
              "\n",
              "    [theme=dark] .colab-df-convert {\n",
              "      background-color: #3B4455;\n",
              "      fill: #D2E3FC;\n",
              "    }\n",
              "\n",
              "    [theme=dark] .colab-df-convert:hover {\n",
              "      background-color: #434B5C;\n",
              "      box-shadow: 0px 1px 3px 1px rgba(0, 0, 0, 0.15);\n",
              "      filter: drop-shadow(0px 1px 2px rgba(0, 0, 0, 0.3));\n",
              "      fill: #FFFFFF;\n",
              "    }\n",
              "  </style>\n",
              "\n",
              "      <script>\n",
              "        const buttonEl =\n",
              "          document.querySelector('#df-1b54673f-577b-470e-a80f-ebccef4ba68d button.colab-df-convert');\n",
              "        buttonEl.style.display =\n",
              "          google.colab.kernel.accessAllowed ? 'block' : 'none';\n",
              "\n",
              "        async function convertToInteractive(key) {\n",
              "          const element = document.querySelector('#df-1b54673f-577b-470e-a80f-ebccef4ba68d');\n",
              "          const dataTable =\n",
              "            await google.colab.kernel.invokeFunction('convertToInteractive',\n",
              "                                                     [key], {});\n",
              "          if (!dataTable) return;\n",
              "\n",
              "          const docLinkHtml = 'Like what you see? Visit the ' +\n",
              "            '<a target=\"_blank\" href=https://colab.research.google.com/notebooks/data_table.ipynb>data table notebook</a>'\n",
              "            + ' to learn more about interactive tables.';\n",
              "          element.innerHTML = '';\n",
              "          dataTable['output_type'] = 'display_data';\n",
              "          await google.colab.output.renderOutput(dataTable, element);\n",
              "          const docLink = document.createElement('div');\n",
              "          docLink.innerHTML = docLinkHtml;\n",
              "          element.appendChild(docLink);\n",
              "        }\n",
              "      </script>\n",
              "    </div>\n",
              "  </div>\n",
              "  "
            ]
          },
          "metadata": {},
          "execution_count": 16
        }
      ]
    },
    {
      "cell_type": "markdown",
      "metadata": {
        "id": "vrZTRaLNVQwS"
      },
      "source": [
        "Now we can use `PolynomialFeatues` to transform training data adding the square of each feature as new features."
      ]
    },
    {
      "cell_type": "code",
      "metadata": {
        "id": "BXo0Hm56VQwS"
      },
      "source": [
        "from sklearn.preprocessing import PolynomialFeatures\n",
        "\n",
        "poly_features = PolynomialFeatures(degree=2, include_bias=False)\n",
        "X_poly = poly_features.fit_transform(X)"
      ],
      "execution_count": 17,
      "outputs": []
    },
    {
      "cell_type": "code",
      "metadata": {
        "colab": {
          "base_uri": "https://localhost:8080/"
        },
        "id": "1FqY9-I4VQwS",
        "outputId": "222af390-74a6-4edb-ecbd-56831761cda4"
      },
      "source": [
        "X_poly"
      ],
      "execution_count": 18,
      "outputs": [
        {
          "output_type": "execute_result",
          "data": {
            "text/plain": [
              "array([[ 2.72919168e+00,  7.44848725e+00],\n",
              "       [ 1.42738150e+00,  2.03741795e+00],\n",
              "       [ 3.26124315e-01,  1.06357069e-01],\n",
              "       [ 6.70324477e-01,  4.49334905e-01],\n",
              "       [-4.82399625e-01,  2.32709399e-01],\n",
              "       [-1.51361406e+00,  2.29102753e+00],\n",
              "       [-8.64163928e-01,  7.46779295e-01],\n",
              "       [ 1.54707666e+00,  2.39344620e+00],\n",
              "       [-2.91363907e+00,  8.48929262e+00],\n",
              "       [-2.30356416e+00,  5.30640783e+00],\n",
              "       [-2.72398415e+00,  7.42008964e+00],\n",
              "       [-2.75562719e+00,  7.59348119e+00],\n",
              "       [ 2.13276350e+00,  4.54868016e+00],\n",
              "       [ 1.22194716e+00,  1.49315485e+00],\n",
              "       [-1.54957025e-01,  2.40116797e-02],\n",
              "       [-2.41299504e+00,  5.82254504e+00],\n",
              "       [-5.03047493e-02,  2.53056780e-03],\n",
              "       [-1.59169375e-01,  2.53348900e-02],\n",
              "       [-1.96078878e+00,  3.84469264e+00],\n",
              "       [-3.96890105e-01,  1.57521755e-01],\n",
              "       [-6.08971594e-01,  3.70846402e-01],\n",
              "       [ 6.95100588e-01,  4.83164828e-01],\n",
              "       [ 8.10561905e-01,  6.57010602e-01],\n",
              "       [-2.72817594e+00,  7.44294397e+00],\n",
              "       [-7.52324312e-01,  5.65991871e-01],\n",
              "       [ 7.55159494e-01,  5.70265862e-01],\n",
              "       [ 1.88175515e-02,  3.54100244e-04],\n",
              "       [ 2.13893905e+00,  4.57506025e+00],\n",
              "       [ 9.52161790e-01,  9.06612074e-01],\n",
              "       [-2.02239344e+00,  4.09007522e+00],\n",
              "       [-2.57658752e+00,  6.63880323e+00],\n",
              "       [ 8.54515669e-01,  7.30197029e-01],\n",
              "       [-2.84093214e+00,  8.07089541e+00],\n",
              "       [ 5.14653488e-01,  2.64868212e-01],\n",
              "       [ 2.64138145e+00,  6.97689596e+00],\n",
              "       [ 4.52845067e-01,  2.05068655e-01],\n",
              "       [-6.70980443e-01,  4.50214755e-01],\n",
              "       [ 8.59729311e-01,  7.39134488e-01],\n",
              "       [-2.50482657e-01,  6.27415615e-02],\n",
              "       [ 2.73700736e-01,  7.49120928e-02],\n",
              "       [ 2.64878885e+00,  7.01608239e+00],\n",
              "       [-6.83384173e-01,  4.67013928e-01],\n",
              "       [ 2.76714338e+00,  7.65708250e+00],\n",
              "       [ 2.43210385e+00,  5.91512915e+00],\n",
              "       [-1.82525319e+00,  3.33154921e+00],\n",
              "       [-2.58383219e+00,  6.67618881e+00],\n",
              "       [-2.39533199e+00,  5.73761535e+00],\n",
              "       [-2.89066905e+00,  8.35596753e+00],\n",
              "       [-2.43334224e+00,  5.92115443e+00],\n",
              "       [ 1.09804064e+00,  1.20569325e+00],\n",
              "       [-2.57286811e+00,  6.61965031e+00],\n",
              "       [-1.08614622e+00,  1.17971361e+00],\n",
              "       [ 2.06925187e+00,  4.28180328e+00],\n",
              "       [-2.86036839e+00,  8.18170730e+00],\n",
              "       [ 1.88681090e+00,  3.56005536e+00],\n",
              "       [-1.30887135e+00,  1.71314421e+00],\n",
              "       [-2.29101103e+00,  5.24873156e+00],\n",
              "       [ 1.18042299e+00,  1.39339844e+00],\n",
              "       [ 7.73657081e-01,  5.98545278e-01],\n",
              "       [ 2.26483208e+00,  5.12946436e+00],\n",
              "       [ 1.41042626e+00,  1.98930224e+00],\n",
              "       [ 1.82088558e+00,  3.31562430e+00],\n",
              "       [-1.30779256e+00,  1.71032139e+00],\n",
              "       [-1.93536274e+00,  3.74562893e+00],\n",
              "       [ 1.50368851e+00,  2.26107913e+00],\n",
              "       [ 1.84100844e+00,  3.38931206e+00],\n",
              "       [ 2.94303085e+00,  8.66143060e+00],\n",
              "       [-5.24293939e-01,  2.74884134e-01],\n",
              "       [-7.67891485e-01,  5.89657333e-01],\n",
              "       [ 1.65847776e+00,  2.75054850e+00],\n",
              "       [-9.55178758e-01,  9.12366461e-01],\n",
              "       [ 2.58454395e+00,  6.67986745e+00],\n",
              "       [ 2.15047651e+00,  4.62454922e+00],\n",
              "       [-4.26035836e-01,  1.81506533e-01],\n",
              "       [ 1.50522641e+00,  2.26570654e+00],\n",
              "       [ 1.52725724e+00,  2.33251469e+00],\n",
              "       [-2.38125679e+00,  5.67038389e+00],\n",
              "       [ 2.41531744e+00,  5.83375834e+00],\n",
              "       [ 3.15142347e-02,  9.93146988e-04],\n",
              "       [ 1.95874480e+00,  3.83668118e+00],\n",
              "       [-1.07970239e+00,  1.16575726e+00],\n",
              "       [ 2.37313937e+00,  5.63179047e+00],\n",
              "       [-6.64789928e-01,  4.41945648e-01],\n",
              "       [-2.93497409e+00,  8.61407292e+00],\n",
              "       [ 2.43229186e+00,  5.91604369e+00],\n",
              "       [-2.45227994e+00,  6.01367690e+00],\n",
              "       [-1.08411817e+00,  1.17531222e+00],\n",
              "       [ 2.70037180e+00,  7.29200787e+00],\n",
              "       [ 2.70364288e+00,  7.30968483e+00],\n",
              "       [ 4.40627329e-01,  1.94152443e-01],\n",
              "       [ 7.91023273e-01,  6.25717818e-01],\n",
              "       [-3.09326868e-01,  9.56831113e-02],\n",
              "       [-1.24073537e+00,  1.53942426e+00],\n",
              "       [-1.02801273e+00,  1.05681017e+00],\n",
              "       [ 1.03511074e+00,  1.07145424e+00],\n",
              "       [ 1.51424718e+00,  2.29294451e+00],\n",
              "       [ 1.74947426e+00,  3.06066019e+00],\n",
              "       [ 1.73770886e+00,  3.01963207e+00],\n",
              "       [-2.45276338e+00,  6.01604821e+00],\n",
              "       [-3.34781718e-02,  1.12078799e-03]])"
            ]
          },
          "metadata": {},
          "execution_count": 18
        }
      ]
    },
    {
      "cell_type": "markdown",
      "metadata": {
        "id": "GrFMRU_eVQwS"
      },
      "source": [
        "`X_poly` now contains the original feature of X plus the square of the feature:"
      ]
    },
    {
      "cell_type": "code",
      "metadata": {
        "colab": {
          "base_uri": "https://localhost:8080/"
        },
        "id": "M8FH1dY2UwgN",
        "outputId": "6677d10b-d7bb-4b96-b444-27c822e50a5e"
      },
      "source": [
        "print(X[0])\n",
        "print(X[0]*X[0])\n"
      ],
      "execution_count": 19,
      "outputs": [
        {
          "output_type": "stream",
          "name": "stdout",
          "text": [
            "[2.72919168]\n",
            "[7.44848725]\n"
          ]
        }
      ]
    },
    {
      "cell_type": "code",
      "metadata": {
        "colab": {
          "base_uri": "https://localhost:8080/"
        },
        "id": "PSflPniWVQwT",
        "outputId": "906a7cff-8dc3-48a8-ee2f-37b9a4ed295f"
      },
      "source": [
        "X_poly[0]"
      ],
      "execution_count": 20,
      "outputs": [
        {
          "output_type": "execute_result",
          "data": {
            "text/plain": [
              "array([2.72919168, 7.44848725])"
            ]
          },
          "metadata": {},
          "execution_count": 20
        }
      ]
    },
    {
      "cell_type": "markdown",
      "metadata": {
        "id": "HaXjXg7FVQwT"
      },
      "source": [
        "Fit the model to this extended training data:"
      ]
    },
    {
      "cell_type": "code",
      "metadata": {
        "colab": {
          "base_uri": "https://localhost:8080/"
        },
        "id": "c0Qu93dgVQwT",
        "outputId": "3f7051fb-978b-4b98-c934-e6c5ed33192a"
      },
      "source": [
        "lin_reg = LinearRegression(fit_intercept=True)\n",
        "lin_reg.fit(X_poly, y)\n",
        "lin_reg.coef_, lin_reg.intercept_"
      ],
      "execution_count": 21,
      "outputs": [
        {
          "output_type": "execute_result",
          "data": {
            "text/plain": [
              "(array([[1.04271531, 0.50866711]]), array([2.01873554]))"
            ]
          },
          "metadata": {},
          "execution_count": 21
        }
      ]
    },
    {
      "cell_type": "markdown",
      "metadata": {
        "id": "rKOSwvnmVQwT"
      },
      "source": [
        "The model estimates:\n",
        "\n",
        "$\\hat{y} =  0.89X +0.48X^2 + 2.09$"
      ]
    },
    {
      "cell_type": "markdown",
      "metadata": {
        "id": "_EtZEKz5VQwT"
      },
      "source": [
        "Plot the data and the predictions:"
      ]
    },
    {
      "cell_type": "code",
      "metadata": {
        "colab": {
          "base_uri": "https://localhost:8080/",
          "height": 0
        },
        "id": "6Q8dHRgdVQwT",
        "outputId": "37b5bf98-7334-45bc-d77d-915b12081ecd"
      },
      "source": [
        "X_new=np.linspace(-3, 3, 100).reshape(100, 1)\n",
        "X_new_poly = poly_features.transform(X_new)\n",
        "y_new = lin_reg.predict(X_new_poly)\n",
        "plt.plot(X, y, \"b.\")\n",
        "plt.plot(X_new, y_new, \"r-\", linewidth=2, label=\"Predictions\")\n",
        "plt.xlabel(\"$x_1$\", fontsize=18)\n",
        "plt.ylabel(\"$y$\", rotation=0, fontsize=18)\n",
        "plt.legend(loc=\"upper left\", fontsize=14)\n",
        "plt.axis([-3, 3, 0, 10]);"
      ],
      "execution_count": 22,
      "outputs": [
        {
          "output_type": "display_data",
          "data": {
            "text/plain": [
              "<Figure size 432x288 with 1 Axes>"
            ],
            "image/png": "[encoded data removed]"
          },
          "metadata": {
            "needs_background": "light"
          }
        }
      ]
    },
    {
      "cell_type": "code",
      "source": [],
      "metadata": {
        "id": "vyq0o8f2pcqa"
      },
      "execution_count": 22,
      "outputs": []
    },
    {
      "cell_type": "markdown",
      "source": [
        "## R square\n",
        "\n",
        "R² es una medida estadística de qué tan cerca están los datos de la línea de regresión ajustada. También se conoce como el coeficiente de determinación o el coeficiente de determinación múltiple para la regresión múltiple. Para decirlo en un lenguaje más simple, R² es una medida de ajuste para los modelos de regresión lineal.\n",
        "\n",
        "\n",
        "\n",
        "R² no indica si un modelo de regresión se ajusta adecuadamente a sus datos. Un buen modelo puede tener un valor R² bajo. Por otro lado, un modelo sesgado puede tener un valor alto de R².\n",
        "\n",
        " SSres + SSreg = SStot, R² = Explained variation / Total Variation\n",
        " \n",
        " ![image.png](https://i.stack.imgur.com/xb1VY.png)\n",
        " \n",
        "![image.png](https://3.bp.blogspot.com/-MFqQLwbGwd4/WMO7tz39beI/AAAAAAAAF9I/Bjpfohgv_5E4lu7HzHJBQtXsBM--byqPwCLcB/s1600/rsquared.png)\n"
      ],
      "metadata": {
        "id": "TIFwAtW1pc6h"
      }
    },
    {
      "cell_type": "markdown",
      "metadata": {
        "id": "nTKFj4x9LMXm"
      },
      "source": [
        "# Ejercicio 1\n",
        "\n",
        "Utiliza la base de datos de \n",
        "https://www.kaggle.com/vinicius150987/manufacturing-cost\n",
        "\n",
        "Suponga que trabaja como consultor de una empresa de nueva creación que busca desarrollar un modelo para estimar el costo de los bienes vendidos a medida que varían el volumen de producción (número de unidades producidas). La startup recopiló datos y le pidió que desarrollara un modelo para predecir su costo frente a la cantidad de unidades vendidas."
      ]
    },
    {
      "cell_type": "code",
      "source": [
        "import warnings\n",
        "warnings.filterwarnings('ignore')"
      ],
      "metadata": {
        "id": "dNOVVvy0m5Er"
      },
      "execution_count": 23,
      "outputs": []
    },
    {
      "cell_type": "code",
      "metadata": {
        "colab": {
          "base_uri": "https://localhost:8080/",
          "height": 363
        },
        "id": "oTnErQOkL3oa",
        "outputId": "d1538593-cbf4-41f1-c7e0-95f9f0934047"
      },
      "source": [
        "import pandas as pd\n",
        "df = pd.read_csv('https://raw.githubusercontent.com/marypazrf/bdd/main/EconomiesOfScale.csv')\n",
        "df.sample(10)"
      ],
      "execution_count": 24,
      "outputs": [
        {
          "output_type": "execute_result",
          "data": {
            "text/plain": [
              "     Number of Units  Manufacturing Cost\n",
              "968         7.065653           27.804027\n",
              "212         3.372115           41.127212\n",
              "416         4.194513           43.832711\n",
              "677         5.068888           41.225741\n",
              "550         4.604122           37.569764\n",
              "764         5.389522           31.191501\n",
              "386         4.104190           42.988730\n",
              "339         3.942214           46.291435\n",
              "82          2.665856           48.578425\n",
              "487         4.399514           37.567914"
            ],
            "text/html": [
              "\n",
              "  <div id=\"df-de73fac4-f95d-4df9-8198-fe4ab4efa165\">\n",
              "    <div class=\"colab-df-container\">\n",
              "      <div>\n",
              "<style scoped>\n",
              "    .dataframe tbody tr th:only-of-type {\n",
              "        vertical-align: middle;\n",
              "    }\n",
              "\n",
              "    .dataframe tbody tr th {\n",
              "        vertical-align: top;\n",
              "    }\n",
              "\n",
              "    .dataframe thead th {\n",
              "        text-align: right;\n",
              "    }\n",
              "</style>\n",
              "<table border=\"1\" class=\"dataframe\">\n",
              "  <thead>\n",
              "    <tr style=\"text-align: right;\">\n",
              "      <th></th>\n",
              "      <th>Number of Units</th>\n",
              "      <th>Manufacturing Cost</th>\n",
              "    </tr>\n",
              "  </thead>\n",
              "  <tbody>\n",
              "    <tr>\n",
              "      <th>968</th>\n",
              "      <td>7.065653</td>\n",
              "      <td>27.804027</td>\n",
              "    </tr>\n",
              "    <tr>\n",
              "      <th>212</th>\n",
              "      <td>3.372115</td>\n",
              "      <td>41.127212</td>\n",
              "    </tr>\n",
              "    <tr>\n",
              "      <th>416</th>\n",
              "      <td>4.194513</td>\n",
              "      <td>43.832711</td>\n",
              "    </tr>\n",
              "    <tr>\n",
              "      <th>677</th>\n",
              "      <td>5.068888</td>\n",
              "      <td>41.225741</td>\n",
              "    </tr>\n",
              "    <tr>\n",
              "      <th>550</th>\n",
              "      <td>4.604122</td>\n",
              "      <td>37.569764</td>\n",
              "    </tr>\n",
              "    <tr>\n",
              "      <th>764</th>\n",
              "      <td>5.389522</td>\n",
              "      <td>31.191501</td>\n",
              "    </tr>\n",
              "    <tr>\n",
              "      <th>386</th>\n",
              "      <td>4.104190</td>\n",
              "      <td>42.988730</td>\n",
              "    </tr>\n",
              "    <tr>\n",
              "      <th>339</th>\n",
              "      <td>3.942214</td>\n",
              "      <td>46.291435</td>\n",
              "    </tr>\n",
              "    <tr>\n",
              "      <th>82</th>\n",
              "      <td>2.665856</td>\n",
              "      <td>48.578425</td>\n",
              "    </tr>\n",
              "    <tr>\n",
              "      <th>487</th>\n",
              "      <td>4.399514</td>\n",
              "      <td>37.567914</td>\n",
              "    </tr>\n",
              "  </tbody>\n",
              "</table>\n",
              "</div>\n",
              "      <button class=\"colab-df-convert\" onclick=\"convertToInteractive('df-de73fac4-f95d-4df9-8198-fe4ab4efa165')\"\n",
              "              title=\"Convert this dataframe to an interactive table.\"\n",
              "              style=\"display:none;\">\n",
              "        \n",
              "  <svg xmlns=\"http://www.w3.org/2000/svg\" height=\"24px\"viewBox=\"0 0 24 24\"\n",
              "       width=\"24px\">\n",
              "    <path d=\"M0 0h24v24H0V0z\" fill=\"none\"/>\n",
              "    <path d=\"M18.56 5.44l.94 2.06.94-2.06 2.06-.94-2.06-.94-.94-2.06-.94 2.06-2.06.94zm-11 1L8.5 8.5l.94-2.06 2.06-.94-2.06-.94L8.5 2.5l-.94 2.06-2.06.94zm10 10l.94 2.06.94-2.06 2.06-.94-2.06-.94-.94-2.06-.94 2.06-2.06.94z\"/><path d=\"M17.41 7.96l-1.37-1.37c-.4-.4-.92-.59-1.43-.59-.52 0-1.04.2-1.43.59L10.3 9.45l-7.72 7.72c-.78.78-.78 2.05 0 2.83L4 21.41c.39.39.9.59 1.41.59.51 0 1.02-.2 1.41-.59l7.78-7.78 2.81-2.81c.8-.78.8-2.07 0-2.86zM5.41 20L4 18.59l7.72-7.72 1.47 1.35L5.41 20z\"/>\n",
              "  </svg>\n",
              "      </button>\n",
              "      \n",
              "  <style>\n",
              "    .colab-df-container {\n",
              "      display:flex;\n",
              "      flex-wrap:wrap;\n",
              "      gap: 12px;\n",
              "    }\n",
              "\n",
              "    .colab-df-convert {\n",
              "      background-color: #E8F0FE;\n",
              "      border: none;\n",
              "      border-radius: 50%;\n",
              "      cursor: pointer;\n",
              "      display: none;\n",
              "      fill: #1967D2;\n",
              "      height: 32px;\n",
              "      padding: 0 0 0 0;\n",
              "      width: 32px;\n",
              "    }\n",
              "\n",
              "    .colab-df-convert:hover {\n",
              "      background-color: #E2EBFA;\n",
              "      box-shadow: 0px 1px 2px rgba(60, 64, 67, 0.3), 0px 1px 3px 1px rgba(60, 64, 67, 0.15);\n",
              "      fill: #174EA6;\n",
              "    }\n",
              "\n",
              "    [theme=dark] .colab-df-convert {\n",
              "      background-color: #3B4455;\n",
              "      fill: #D2E3FC;\n",
              "    }\n",
              "\n",
              "    [theme=dark] .colab-df-convert:hover {\n",
              "      background-color: #434B5C;\n",
              "      box-shadow: 0px 1px 3px 1px rgba(0, 0, 0, 0.15);\n",
              "      filter: drop-shadow(0px 1px 2px rgba(0, 0, 0, 0.3));\n",
              "      fill: #FFFFFF;\n",
              "    }\n",
              "  </style>\n",
              "\n",
              "      <script>\n",
              "        const buttonEl =\n",
              "          document.querySelector('#df-de73fac4-f95d-4df9-8198-fe4ab4efa165 button.colab-df-convert');\n",
              "        buttonEl.style.display =\n",
              "          google.colab.kernel.accessAllowed ? 'block' : 'none';\n",
              "\n",
              "        async function convertToInteractive(key) {\n",
              "          const element = document.querySelector('#df-de73fac4-f95d-4df9-8198-fe4ab4efa165');\n",
              "          const dataTable =\n",
              "            await google.colab.kernel.invokeFunction('convertToInteractive',\n",
              "                                                     [key], {});\n",
              "          if (!dataTable) return;\n",
              "\n",
              "          const docLinkHtml = 'Like what you see? Visit the ' +\n",
              "            '<a target=\"_blank\" href=https://colab.research.google.com/notebooks/data_table.ipynb>data table notebook</a>'\n",
              "            + ' to learn more about interactive tables.';\n",
              "          element.innerHTML = '';\n",
              "          dataTable['output_type'] = 'display_data';\n",
              "          await google.colab.output.renderOutput(dataTable, element);\n",
              "          const docLink = document.createElement('div');\n",
              "          docLink.innerHTML = docLinkHtml;\n",
              "          element.appendChild(docLink);\n",
              "        }\n",
              "      </script>\n",
              "    </div>\n",
              "  </div>\n",
              "  "
            ]
          },
          "metadata": {},
          "execution_count": 24
        }
      ]
    },
    {
      "cell_type": "code",
      "metadata": {
        "id": "14kGO5nkMGlV"
      },
      "source": [
        "X = df[['Number of Units']]\n",
        "y = df['Manufacturing Cost']"
      ],
      "execution_count": 25,
      "outputs": []
    },
    {
      "cell_type": "code",
      "source": [
        "len(X)"
      ],
      "metadata": {
        "id": "ksh_OrkjY3GW",
        "outputId": "00f47676-cf70-4ccc-fe7d-49dec86c381c",
        "colab": {
          "base_uri": "https://localhost:8080/"
        }
      },
      "execution_count": 26,
      "outputs": [
        {
          "output_type": "execute_result",
          "data": {
            "text/plain": [
              "1000"
            ]
          },
          "metadata": {},
          "execution_count": 26
        }
      ]
    },
    {
      "cell_type": "code",
      "source": [
        "y.describe"
      ],
      "metadata": {
        "colab": {
          "base_uri": "https://localhost:8080/"
        },
        "id": "bwR6SSqQDfC2",
        "outputId": "7e95af7b-288f-46f7-c6b8-066203846ae0"
      },
      "execution_count": 27,
      "outputs": [
        {
          "output_type": "execute_result",
          "data": {
            "text/plain": [
              "<bound method NDFrame.describe of 0      95.066056\n",
              "1      96.531750\n",
              "2      73.661311\n",
              "3      95.566843\n",
              "4      98.777013\n",
              "         ...    \n",
              "995    23.855067\n",
              "996    27.536542\n",
              "997    25.973787\n",
              "998    25.138311\n",
              "999    21.547777\n",
              "Name: Manufacturing Cost, Length: 1000, dtype: float64>"
            ]
          },
          "metadata": {},
          "execution_count": 27
        }
      ]
    },
    {
      "cell_type": "code",
      "metadata": {
        "colab": {
          "base_uri": "https://localhost:8080/",
          "height": 282
        },
        "id": "idoEjfEhMoxk",
        "outputId": "bc23e005-9e74-4d08-e556-74f8e85d5f5e"
      },
      "source": [
        "plt.plot(X,y,'b.')"
      ],
      "execution_count": 28,
      "outputs": [
        {
          "output_type": "execute_result",
          "data": {
            "text/plain": [
              "[<matplotlib.lines.Line2D at 0x7f64429fa690>]"
            ]
          },
          "metadata": {},
          "execution_count": 28
        },
        {
          "output_type": "display_data",
          "data": {
            "text/plain": [
              "<Figure size 432x288 with 1 Axes>"
            ],
            "image/png": "[encoded data removed]"
          },
          "metadata": {
            "needs_background": "light"
          }
        }
      ]
    },
    {
      "cell_type": "markdown",
      "source": [
        "## Lineal"
      ],
      "metadata": {
        "id": "GZ3wSjHoawop"
      }
    },
    {
      "cell_type": "code",
      "source": [
        "from sklearn.model_selection import train_test_split"
      ],
      "metadata": {
        "id": "kMmOy97puOLE"
      },
      "execution_count": 29,
      "outputs": []
    },
    {
      "cell_type": "code",
      "source": [
        "X_train, X_test, y_train, y_test = train_test_split(X, y, train_size   = 0.8, random_state = 1234, shuffle = True)"
      ],
      "metadata": {
        "id": "oH1o9WYPa0tO"
      },
      "execution_count": 30,
      "outputs": []
    },
    {
      "cell_type": "code",
      "source": [
        "linear_reg = LinearRegression(fit_intercept=True)\n",
        "linear_reg.fit(X_test, y_test)"
      ],
      "metadata": {
        "id": "UlpZxdG3bVUo",
        "outputId": "3d23611f-4148-43cf-81d4-e8d006ed8045",
        "colab": {
          "base_uri": "https://localhost:8080/"
        }
      },
      "execution_count": 31,
      "outputs": [
        {
          "output_type": "execute_result",
          "data": {
            "text/plain": [
              "LinearRegression()"
            ]
          },
          "metadata": {},
          "execution_count": 31
        }
      ]
    },
    {
      "cell_type": "code",
      "source": [
        "y_pred = linear_reg.predict(X_test)"
      ],
      "metadata": {
        "id": "h4PyhET7cJGJ"
      },
      "execution_count": 32,
      "outputs": []
    },
    {
      "cell_type": "code",
      "source": [
        "plt.scatter(X, y)\n",
        "plt.plot(X_test, y_pred, \"r-\", linewidth=2, label=\"Predictions\")\n",
        "plt.xlabel(\"$X$\", fontsize=18)\n",
        "plt.ylabel(\"$y$\", rotation=0, fontsize=18)\n",
        "plt.legend(loc=\"upper left\", fontsize=14);"
      ],
      "metadata": {
        "id": "coOmU4dicqPs",
        "outputId": "fa013b78-bd8e-475a-992e-9d74422b0147",
        "colab": {
          "base_uri": "https://localhost:8080/",
          "height": 287
        }
      },
      "execution_count": 33,
      "outputs": [
        {
          "output_type": "display_data",
          "data": {
            "text/plain": [
              "<Figure size 432x288 with 1 Axes>"
            ],
            "image/png": "[encoded data removed]"
          },
          "metadata": {
            "needs_background": "light"
          }
        }
      ]
    },
    {
      "cell_type": "code",
      "source": [
        "linear_reg.coef_, linear_reg.intercept_"
      ],
      "metadata": {
        "id": "bY_TNS80c2pD",
        "outputId": "0a424563-38e0-43ee-ad96-de1e75c754f0",
        "colab": {
          "base_uri": "https://localhost:8080/"
        }
      },
      "execution_count": 34,
      "outputs": [
        {
          "output_type": "execute_result",
          "data": {
            "text/plain": [
              "(array([-5.38145238]), 64.09678092323911)"
            ]
          },
          "metadata": {},
          "execution_count": 34
        }
      ]
    },
    {
      "cell_type": "markdown",
      "source": [
        "Ecuación del modelo lineal:\n",
        "> $\\hat{y} = -5.38X + 64.09$"
      ],
      "metadata": {
        "id": "HWreadDhc5YQ"
      }
    },
    {
      "cell_type": "code",
      "source": [
        "from sklearn.metrics import mean_squared_error\n",
        "from sklearn import metrics\n",
        "from sklearn.metrics import r2_score"
      ],
      "metadata": {
        "id": "WGaxp4DZemmh"
      },
      "execution_count": 35,
      "outputs": []
    },
    {
      "cell_type": "code",
      "source": [
        "rmse_lin = mean_squared_error(y_test, y_pred, squared = False)\n",
        "r2_lin = r2_score(y_test, y_pred)\n",
        "mae_lin = metrics.mean_absolute_error(y_test, y_pred)\n",
        "\n",
        "print(f\"El error (rmse) de test es: {rmse_lin}\")\n",
        "print(f\"El R2 de test es: {r2_lin}\")\n",
        "print(f'Error medio Absoluto (MAE): {mae_lin}')"
      ],
      "metadata": {
        "id": "bPR2RBeUpioP",
        "outputId": "748067b6-762b-47d8-d6ef-13b0abef81e2",
        "colab": {
          "base_uri": "https://localhost:8080/"
        }
      },
      "execution_count": 36,
      "outputs": [
        {
          "output_type": "stream",
          "name": "stdout",
          "text": [
            "El error (rmse) de test es: 5.9679734768237775\n",
            "El R2 de test es: 0.579954747437816\n",
            "Error medio Absoluto (MAE): 4.410304425957549\n"
          ]
        }
      ]
    },
    {
      "cell_type": "markdown",
      "source": [
        "## Polinomial"
      ],
      "metadata": {
        "id": "I27nytp7e2NQ"
      }
    },
    {
      "cell_type": "code",
      "source": [
        "from sklearn.preprocessing import PolynomialFeatures "
      ],
      "metadata": {
        "id": "8-o8QrbBfK9Y"
      },
      "execution_count": 37,
      "outputs": []
    },
    {
      "cell_type": "code",
      "source": [
        "poly_features = PolynomialFeatures(degree = 2, include_bias = False)\n",
        "X_poly = poly_features.fit_transform(X_train)"
      ],
      "metadata": {
        "id": "-Vlk2koftVhN"
      },
      "execution_count": 38,
      "outputs": []
    },
    {
      "cell_type": "code",
      "source": [
        "lin_reg = LinearRegression(fit_intercept=True)\n",
        "lin_reg.fit(X_poly, y_train)\n",
        "lin_reg.coef_, lin_reg.intercept_"
      ],
      "metadata": {
        "id": "7dzQHOyyfeoG",
        "outputId": "f8ee7c11-b91d-4461-b1d3-323663f60f27",
        "colab": {
          "base_uri": "https://localhost:8080/"
        }
      },
      "execution_count": 39,
      "outputs": [
        {
          "output_type": "execute_result",
          "data": {
            "text/plain": [
              "(array([-17.1413409 ,   1.19820742]), 90.58786991113632)"
            ]
          },
          "metadata": {},
          "execution_count": 39
        }
      ]
    },
    {
      "cell_type": "markdown",
      "source": [
        "Ecuación del Modelo Cuadrático:\n",
        "> $\\hat{y} = -17.14X + 1.19X^2 + 90.58$"
      ],
      "metadata": {
        "id": "CYRDy3F0iGm_"
      }
    },
    {
      "cell_type": "code",
      "source": [
        "X_poly_test = poly_features.fit_transform(X_test)\n",
        "y_pred = lin_reg.predict(X_poly_test)\n",
        "plt.plot(X, y, \"b.\")\n",
        "plt.plot(X_test, y_pred, \"r-\", linewidth=2, label=\"Predictions\")\n",
        "plt.xlabel(\"$x_1$\", fontsize=18)\n",
        "plt.ylabel(\"$y$\", rotation=0, fontsize=18)\n",
        "plt.legend(loc=\"upper left\", fontsize=14)"
      ],
      "metadata": {
        "id": "_SjRyFSXgE1s",
        "outputId": "a03c3c16-75d3-4a75-de6a-045134063ebc",
        "colab": {
          "base_uri": "https://localhost:8080/",
          "height": 304
        }
      },
      "execution_count": 40,
      "outputs": [
        {
          "output_type": "execute_result",
          "data": {
            "text/plain": [
              "<matplotlib.legend.Legend at 0x7f6442227f90>"
            ]
          },
          "metadata": {},
          "execution_count": 40
        },
        {
          "output_type": "display_data",
          "data": {
            "text/plain": [
              "<Figure size 432x288 with 1 Axes>"
            ],
            "image/png": "[encoded data removed]"
          },
          "metadata": {
            "needs_background": "light"
          }
        }
      ]
    },
    {
      "cell_type": "code",
      "source": [
        "rmse_pol = mean_squared_error(y_test, y_pred, squared = False)\n",
        "r2_pol = r2_score(y_test, y_pred)\n",
        "mae_pol = metrics.mean_absolute_error(y_test, y_pred)\n",
        "\n",
        "print(f\"El error (rmse) de test es: {rmse_pol}\")\n",
        "print(f\"El R2 de test es: {r2_pol}\")\n",
        "print(f'Error medio Absoluto (MAE): {mae_pol}')"
      ],
      "metadata": {
        "id": "sksfb-l9pRsi",
        "outputId": "ba02fd66-d221-4a9e-e22a-85a7bf7feac5",
        "colab": {
          "base_uri": "https://localhost:8080/"
        }
      },
      "execution_count": 41,
      "outputs": [
        {
          "output_type": "stream",
          "name": "stdout",
          "text": [
            "El error (rmse) de test es: 5.581104369206534\n",
            "El R2 de test es: 0.6326478380796126\n",
            "Error medio Absoluto (MAE): 4.066891562627315\n"
          ]
        }
      ]
    },
    {
      "cell_type": "markdown",
      "source": [
        "## Ridge"
      ],
      "metadata": {
        "id": "6KkhTmkKioQG"
      }
    },
    {
      "cell_type": "code",
      "source": [
        "from sklearn.linear_model import Ridge\n",
        "from sklearn.linear_model import RidgeCV"
      ],
      "metadata": {
        "id": "Dk5XdxoXi5OV"
      },
      "execution_count": 42,
      "outputs": []
    },
    {
      "cell_type": "code",
      "source": [
        "modelo = RidgeCV(alphas = np.logspace(-20, 20, 500), \n",
        "                 fit_intercept = True, \n",
        "                 normalize = True,\n",
        "                 store_cv_values = True)\n",
        "modelo.fit(X_train, y_train)"
      ],
      "metadata": {
        "id": "hSSQQyzgip_J",
        "outputId": "a65b9a67-a1ad-41da-bcce-0576527b832d",
        "colab": {
          "base_uri": "https://localhost:8080/"
        }
      },
      "execution_count": 43,
      "outputs": [
        {
          "output_type": "execute_result",
          "data": {
            "text/plain": [
              "RidgeCV(alphas=array([1.00000000e-20, 1.20270833e-20, 1.44650734e-20, 1.73972643e-20,\n",
              "       2.09238348e-20, 2.51652705e-20, 3.02664806e-20, 3.64017485e-20,\n",
              "       4.37806863e-20, 5.26553963e-20, 6.33290840e-20, 7.61664172e-20,\n",
              "       9.16059848e-20, 1.10175281e-19, 1.32508729e-19, 1.59369353e-19,\n",
              "       1.91674849e-19, 2.30528939e-19, 2.77259076e-19, 3.33461802e-19,\n",
              "       4.01057288e-19, 4.82354943e-1...\n",
              "       1.43321923e+18, 1.72374471e+18, 2.07316213e+18, 2.49340937e+18,\n",
              "       2.99884423e+18, 3.60673495e+18, 4.33785019e+18, 5.21716858e+18,\n",
              "       6.27473213e+18, 7.54667263e+18, 9.07644607e+18, 1.09163173e+19,\n",
              "       1.31291459e+19, 1.57905331e+19, 1.89914058e+19, 2.28411221e+19,\n",
              "       2.74712079e+19, 3.30398507e+19, 3.97373038e+19, 4.77923865e+19,\n",
              "       5.74803016e+19, 6.91320378e+19, 8.31456781e+19, 1.00000000e+20]),\n",
              "        normalize=True, store_cv_values=True)"
            ]
          },
          "metadata": {},
          "execution_count": 43
        }
      ]
    },
    {
      "cell_type": "code",
      "source": [
        "alphas = modelo.alphas\n",
        "coefs = []\n",
        "\n",
        "for alpha in alphas:\n",
        "    modelo_temp = Ridge(alpha=alpha, fit_intercept=False, normalize=True)\n",
        "    modelo_temp.fit(X_train, y_train)\n",
        "    coefs.append(modelo_temp.coef_)\n",
        "\n",
        "fig, ax = plt.subplots(figsize=(15, 10))\n",
        "ax.plot(alphas, coefs)\n",
        "ax.set_xscale('log')\n",
        "ax.set_xlabel('alpha')\n",
        "ax.set_ylabel('coeficientes')\n",
        "ax.set_title('Coeficientes del modelo en función de la regularización');\n",
        "plt.axis('tight')\n",
        "plt.show()"
      ],
      "metadata": {
        "id": "YFNzuzizjJ4W",
        "outputId": "2e1c8b46-6c12-47f1-d848-9d3091baa098",
        "colab": {
          "base_uri": "https://localhost:8080/",
          "height": 625
        }
      },
      "execution_count": 44,
      "outputs": [
        {
          "output_type": "display_data",
          "data": {
            "text/plain": [
              "<Figure size 1080x720 with 1 Axes>"
            ],
            "image/png": "[encoded data removed]"
          },
          "metadata": {
            "needs_background": "light"
          }
        }
      ]
    },
    {
      "cell_type": "code",
      "source": [
        "mse_cv = modelo.cv_values_.reshape((-1, 500)).mean(axis=0)\n",
        "mse_sd = modelo.cv_values_.reshape((-1, 500)).std(axis=0)\n",
        "\n",
        "# Se aplica la raíz cuadrada para pasar de mse a rmse\n",
        "rmse_cv = np.sqrt(mse_cv)\n",
        "rmse_sd = np.sqrt(mse_sd)\n",
        "\n",
        "# Se identifica el óptimo y el óptimo + 1std\n",
        "min_rmse     = np.min(rmse_cv)\n",
        "sd_min_rmse  = rmse_sd[np.argmin(rmse_cv)]\n",
        "min_rsme_1sd = np.max(rmse_cv[rmse_cv <= min_rmse + sd_min_rmse])\n",
        "optimo       = modelo.alphas[np.argmin(rmse_cv)]\n",
        "optimo_1sd   = modelo.alphas[rmse_cv == min_rsme_1sd]\n",
        "\n",
        "\n",
        "# Gráfico del error +- 1 desviación estándar\n",
        "fig, ax = plt.subplots(figsize=(15, 10))\n",
        "ax.plot(modelo.alphas, rmse_cv)\n",
        "ax.fill_between(\n",
        "    modelo.alphas,\n",
        "    rmse_cv + rmse_sd,\n",
        "    rmse_cv - rmse_sd,\n",
        "    alpha=0.2\n",
        ")\n",
        "\n",
        "ax.axvline(\n",
        "    x         = optimo,\n",
        "    c         = \"gray\",\n",
        "    linestyle = '--',\n",
        "    label     = 'óptimo'\n",
        ")\n",
        "\n",
        "ax.axvline(\n",
        "    x         = optimo_1sd.any(),\n",
        "    c         = \"blue\",\n",
        "    linestyle = '--',\n",
        "    label     = 'óptimo_1sd'\n",
        ")\n",
        "ax.set_xscale('log')\n",
        "ax.set_title('Evolución del error CV en función de la regularización')\n",
        "ax.set_xlabel('alpha')\n",
        "ax.set_ylabel('RMSE')\n",
        "plt.legend();"
      ],
      "metadata": {
        "id": "C9-kobJgjUcg",
        "outputId": "d29f2a14-0daa-4670-b0e3-71789f21ed14",
        "colab": {
          "base_uri": "https://localhost:8080/",
          "height": 625
        }
      },
      "execution_count": 45,
      "outputs": [
        {
          "output_type": "display_data",
          "data": {
            "text/plain": [
              "<Figure size 1080x720 with 1 Axes>"
            ],
            "image/png": "[encoded data removed]"
          },
          "metadata": {
            "needs_background": "light"
          }
        }
      ]
    },
    {
      "cell_type": "code",
      "source": [
        "print(f\"Mejor valor de alpha encontrado: {modelo.alpha_}\")"
      ],
      "metadata": {
        "id": "ftBETv0oja30",
        "outputId": "3a9b870b-da27-4970-dc96-ecb87fa87031",
        "colab": {
          "base_uri": "https://localhost:8080/"
        }
      },
      "execution_count": 46,
      "outputs": [
        {
          "output_type": "stream",
          "name": "stdout",
          "text": [
            "Mejor valor de alpha encontrado: 0.0020636177678638565\n"
          ]
        }
      ]
    },
    {
      "cell_type": "code",
      "source": [
        "y_pred = modelo.predict(X_test)\n",
        "y_pred = y_pred.flatten()\n",
        "y_pred[:10]"
      ],
      "metadata": {
        "id": "WVt_G-fSjmSu",
        "outputId": "21b483e0-b88e-46a6-cc5c-0b614093e908",
        "colab": {
          "base_uri": "https://localhost:8080/"
        }
      },
      "execution_count": 47,
      "outputs": [
        {
          "output_type": "execute_result",
          "data": {
            "text/plain": [
              "array([36.27878832, 18.89235114, 48.42147438, 34.16678282, 41.44118481,\n",
              "       42.79033327, 36.18150992, 39.17363988, 37.39716875, 50.57474229])"
            ]
          },
          "metadata": {},
          "execution_count": 47
        }
      ]
    },
    {
      "cell_type": "code",
      "source": [
        "modelo.coef_, modelo.intercept_"
      ],
      "metadata": {
        "id": "iUSOQ6K83mJa",
        "outputId": "be892db4-feff-440c-ab45-c7f2245c07af",
        "colab": {
          "base_uri": "https://localhost:8080/"
        }
      },
      "execution_count": 48,
      "outputs": [
        {
          "output_type": "execute_result",
          "data": {
            "text/plain": [
              "(array([-6.17391974]), 67.66857806035881)"
            ]
          },
          "metadata": {},
          "execution_count": 48
        }
      ]
    },
    {
      "cell_type": "markdown",
      "source": [
        "Ecuación del Modelo Cuadrático:\n",
        "> $\\hat{y} = -6.17X + 67.66$"
      ],
      "metadata": {
        "id": "4l3GzBxs3317"
      }
    },
    {
      "cell_type": "code",
      "source": [
        "plt.scatter(X, y)\n",
        "plt.plot(X_test, y_pred, \"r-\", linewidth=2, label=\"Predictions\")\n",
        "plt.xlabel(\"$X$\", fontsize=18)\n",
        "plt.ylabel(\"$y$\", rotation=0, fontsize=18)\n",
        "plt.legend(loc=\"upper left\", fontsize=14);"
      ],
      "metadata": {
        "id": "lKULVFXq4DT4",
        "outputId": "b2330397-fe8d-402e-a444-13472f4a2f1c",
        "colab": {
          "base_uri": "https://localhost:8080/",
          "height": 287
        }
      },
      "execution_count": 49,
      "outputs": [
        {
          "output_type": "display_data",
          "data": {
            "text/plain": [
              "<Figure size 432x288 with 1 Axes>"
            ],
            "image/png": "[encoded data removed]"
          },
          "metadata": {
            "needs_background": "light"
          }
        }
      ]
    },
    {
      "cell_type": "code",
      "source": [
        "rmse_ridge = mean_squared_error(y_test, y_pred, squared = False)\n",
        "r2_ridge = r2_score(y_test, y_pred)\n",
        "mae_ridge = metrics.mean_absolute_error(y_test, y_pred)\n",
        "\n",
        "print(f\"El error (rmse) de test es: {rmse_ridge}\")\n",
        "print(f\"El R2 de test es: {r2_ridge}\")\n",
        "print(f'Error medio Absoluto (MAE): {mae_ridge}')"
      ],
      "metadata": {
        "id": "G5TrS51_juK0",
        "outputId": "7a07dac2-d694-43e0-c07b-7fc64b268f40",
        "colab": {
          "base_uri": "https://localhost:8080/"
        }
      },
      "execution_count": 50,
      "outputs": [
        {
          "output_type": "stream",
          "name": "stdout",
          "text": [
            "El error (rmse) de test es: 6.056658768766451\n",
            "El R2 de test es: 0.5673780760089375\n",
            "Error medio Absoluto (MAE): 4.520911055081208\n"
          ]
        }
      ]
    },
    {
      "cell_type": "markdown",
      "source": [
        "## Lasso"
      ],
      "metadata": {
        "id": "14aN5LlBkFjK"
      }
    },
    {
      "cell_type": "code",
      "source": [
        "from sklearn.linear_model import Lasso\n",
        "from sklearn.linear_model import LassoCV"
      ],
      "metadata": {
        "id": "zpIqXgcakHct"
      },
      "execution_count": 51,
      "outputs": []
    },
    {
      "cell_type": "code",
      "source": [
        "modelo = LassoCV(alphas = np.logspace(-5, 5, 500), normalize = True, cv = 10)\n",
        "modelo.fit(X = X_train, y = y_train)"
      ],
      "metadata": {
        "id": "QvgIjIQelr2i",
        "outputId": "9d78ad28-cb0a-4244-eccc-a8109eb8b7fe",
        "colab": {
          "base_uri": "https://localhost:8080/"
        }
      },
      "execution_count": 52,
      "outputs": [
        {
          "output_type": "execute_result",
          "data": {
            "text/plain": [
              "LassoCV(alphas=array([1.00000000e-05, 1.04722519e-05, 1.09668060e-05, 1.14847155e-05,\n",
              "       1.20270833e-05, 1.25950646e-05, 1.31898690e-05, 1.38127630e-05,\n",
              "       1.44650734e-05, 1.51481892e-05, 1.58635653e-05, 1.66127252e-05,\n",
              "       1.73972643e-05, 1.82188534e-05, 1.90792422e-05, 1.99802631e-05,\n",
              "       2.09238348e-05, 2.19119669e-05, 2.29467637e-05, 2.40304289e-05,\n",
              "       2.51652705e-05, 2.63537052e-0...\n",
              "       3.46001639e+04, 3.62341632e+04, 3.79453285e+04, 3.97373038e+04,\n",
              "       4.16139055e+04, 4.35791301e+04, 4.56371628e+04, 4.77923865e+04,\n",
              "       5.00493910e+04, 5.24129830e+04, 5.48881961e+04, 5.74803016e+04,\n",
              "       6.01948197e+04, 6.30375315e+04, 6.60144909e+04, 6.91320378e+04,\n",
              "       7.23968114e+04, 7.58157646e+04, 7.93961785e+04, 8.31456781e+04,\n",
              "       8.70722485e+04, 9.11842520e+04, 9.54904456e+04, 1.00000000e+05]),\n",
              "        cv=10, normalize=True)"
            ]
          },
          "metadata": {},
          "execution_count": 52
        }
      ]
    },
    {
      "cell_type": "code",
      "source": [
        "alphas = modelo.alphas_\n",
        "coefs = []\n",
        "\n",
        "for alpha in alphas:\n",
        "    modelo_temp = Lasso(alpha=alpha, fit_intercept=False, normalize=True)\n",
        "    modelo_temp.fit(X_train, y_train)\n",
        "    coefs.append(modelo_temp.coef_.flatten())\n",
        "\n",
        "fig, ax = plt.subplots(figsize=(15, 10))\n",
        "ax.plot(alphas, coefs)\n",
        "ax.set_xscale('log')\n",
        "ax.set_xlabel('alpha')\n",
        "ax.set_ylabel('coeficientes')\n",
        "ax.set_title('Coeficientes del modelo en función de la regularización');"
      ],
      "metadata": {
        "id": "SKAjaiIEl-su",
        "outputId": "aacd51c9-1e4a-4da1-e7d3-3acc499e6d80",
        "colab": {
          "base_uri": "https://localhost:8080/",
          "height": 625
        }
      },
      "execution_count": 53,
      "outputs": [
        {
          "output_type": "display_data",
          "data": {
            "text/plain": [
              "<Figure size 1080x720 with 1 Axes>"
            ],
            "image/png": "[encoded data removed]"
          },
          "metadata": {
            "needs_background": "light"
          }
        }
      ]
    },
    {
      "cell_type": "code",
      "source": [
        "# Número de predictores incluidos (coeficiente !=0) en función de alpha\n",
        "alphas = modelo.alphas_\n",
        "n_predictores = []\n",
        "\n",
        "for alpha in alphas:\n",
        "    modelo_temp = Lasso(alpha=alpha, fit_intercept=False, normalize=True)\n",
        "    modelo_temp.fit(X_train, y_train)\n",
        "    coef_no_cero = np.sum(modelo_temp.coef_.flatten() != 0)\n",
        "    n_predictores.append(coef_no_cero)\n",
        "\n",
        "fig, ax = plt.subplots(figsize=(15, 10))\n",
        "ax.plot(alphas, n_predictores)\n",
        "ax.set_xscale('log')\n",
        "ax.set_xlabel('alpha')\n",
        "ax.set_ylabel('nº predictores')\n",
        "ax.set_title('Predictores incluidos en función de la regularización');"
      ],
      "metadata": {
        "id": "pTXdUqm9nIAZ",
        "outputId": "0e613918-5807-4606-8069-a89447504ecd",
        "colab": {
          "base_uri": "https://localhost:8080/",
          "height": 625
        }
      },
      "execution_count": 54,
      "outputs": [
        {
          "output_type": "display_data",
          "data": {
            "text/plain": [
              "<Figure size 1080x720 with 1 Axes>"
            ],
            "image/png": "[encoded data removed]"
          },
          "metadata": {
            "needs_background": "light"
          }
        }
      ]
    },
    {
      "cell_type": "code",
      "source": [
        "mse_cv = modelo.mse_path_.mean(axis=1)\n",
        "mse_sd = modelo.mse_path_.std(axis=1)\n",
        "\n",
        "# Se aplica la raíz cuadrada para pasar de mse a rmse\n",
        "rmse_cv = np.sqrt(mse_cv)\n",
        "rmse_sd = np.sqrt(mse_sd)\n",
        "\n",
        "# Se identifica el óptimo y el óptimo + 1std\n",
        "min_rmse     = np.min(rmse_cv)\n",
        "sd_min_rmse  = rmse_sd[np.argmin(rmse_cv)]\n",
        "min_rsme_1sd = np.max(rmse_cv[rmse_cv <= min_rmse + sd_min_rmse])\n",
        "optimo       = modelo.alphas_[np.argmin(rmse_cv)]\n",
        "optimo_1sd   = modelo.alphas_[rmse_cv == min_rsme_1sd]\n",
        "\n",
        "# Gráfico del error +- 1 desviación estándar\n",
        "fig, ax = plt.subplots(figsize=(15, 10))\n",
        "ax.plot(modelo.alphas_, rmse_cv)\n",
        "ax.fill_between(\n",
        "    modelo.alphas_,\n",
        "    rmse_cv + rmse_sd,\n",
        "    rmse_cv - rmse_sd,\n",
        "    alpha=0.2\n",
        ")\n",
        "\n",
        "ax.axvline(\n",
        "    x         = optimo,\n",
        "    c         = \"gray\",\n",
        "    linestyle = '--',\n",
        "    label     = 'óptimo'\n",
        ")\n",
        "\n",
        "ax.axvline(\n",
        "    x         = optimo_1sd,\n",
        "    c         = \"blue\",\n",
        "    linestyle = '--',\n",
        "    label     = 'óptimo_1sd'\n",
        ")\n",
        "\n",
        "ax.set_xscale('log')\n",
        "ax.set_title('Evolución del error CV en función de la regularización')\n",
        "ax.set_xlabel('alpha')\n",
        "ax.set_ylabel('RMSE')\n",
        "plt.legend();"
      ],
      "metadata": {
        "id": "zn8zyTZPnVOc",
        "outputId": "0826bd88-3c6b-459f-d2e8-58f88bcb202d",
        "colab": {
          "base_uri": "https://localhost:8080/",
          "height": 625
        }
      },
      "execution_count": 55,
      "outputs": [
        {
          "output_type": "display_data",
          "data": {
            "text/plain": [
              "<Figure size 1080x720 with 1 Axes>"
            ],
            "image/png": "[encoded data removed]"
          },
          "metadata": {
            "needs_background": "light"
          }
        }
      ]
    },
    {
      "cell_type": "code",
      "source": [
        "print(f\"Mejor valor de alpha encontrado: {modelo.alpha_}\")"
      ],
      "metadata": {
        "id": "LxXuIW7NnwJh",
        "outputId": "e722f5e6-11b9-4685-f9e7-ae15d4204ff4",
        "colab": {
          "base_uri": "https://localhost:8080/"
        }
      },
      "execution_count": 56,
      "outputs": [
        {
          "output_type": "stream",
          "name": "stdout",
          "text": [
            "Mejor valor de alpha encontrado: 1e-05\n"
          ]
        }
      ]
    },
    {
      "cell_type": "code",
      "source": [
        "min_rmse     = np.min(rmse_cv)\n",
        "sd_min_rmse  = rmse_sd[np.argmin(rmse_cv)]\n",
        "min_rsme_1sd = np.max(rmse_cv[rmse_cv <= min_rmse + sd_min_rmse])\n",
        "optimo       = modelo.alphas_[np.argmin(rmse_cv)]\n",
        "optimo_1sd   = modelo.alphas_[rmse_cv == min_rsme_1sd]\n",
        "\n",
        "print(f\"Mejor valor de alpha encontrado + 1 desviación estándar: {optimo_1sd}\")"
      ],
      "metadata": {
        "id": "7vUhEho0n7o2",
        "outputId": "e8144d6f-037a-4e47-89b5-cb93e9e51bc2",
        "colab": {
          "base_uri": "https://localhost:8080/"
        }
      },
      "execution_count": 57,
      "outputs": [
        {
          "output_type": "stream",
          "name": "stdout",
          "text": [
            "Mejor valor de alpha encontrado + 1 desviación estándar: [0.29440005]\n"
          ]
        }
      ]
    },
    {
      "cell_type": "code",
      "source": [
        "modelo = Lasso(alpha=optimo_1sd, normalize=True)\n",
        "modelo.fit(X_train, y_train)"
      ],
      "metadata": {
        "id": "kMG37lg5n9WD",
        "outputId": "249a15e2-0514-44ce-b937-118288f3ef59",
        "colab": {
          "base_uri": "https://localhost:8080/"
        }
      },
      "execution_count": 58,
      "outputs": [
        {
          "output_type": "execute_result",
          "data": {
            "text/plain": [
              "Lasso(alpha=array([0.29440005]), normalize=True)"
            ]
          },
          "metadata": {},
          "execution_count": 58
        }
      ]
    },
    {
      "cell_type": "code",
      "source": [
        "predicciones = modelo.predict(X=X_test)\n",
        "predicciones = predicciones.flatten()\n",
        "predicciones[:10]"
      ],
      "metadata": {
        "id": "MJVRa0HioTDG",
        "outputId": "0b324b58-840f-47e8-cd38-fa98231755ed",
        "colab": {
          "base_uri": "https://localhost:8080/"
        }
      },
      "execution_count": 59,
      "outputs": [
        {
          "output_type": "execute_result",
          "data": {
            "text/plain": [
              "array([40.09840311, 40.09840311, 40.09840311, 40.09840311, 40.09840311,\n",
              "       40.09840311, 40.09840311, 40.09840311, 40.09840311, 40.09840311])"
            ]
          },
          "metadata": {},
          "execution_count": 59
        }
      ]
    },
    {
      "cell_type": "code",
      "source": [
        "plt.scatter(X, y)\n",
        "plt.plot(X_test, y_pred, \"r-\", linewidth=2, label=\"Predictions\")\n",
        "plt.xlabel(\"$X$\", fontsize=18)\n",
        "plt.ylabel(\"$y$\", rotation=0, fontsize=18)\n",
        "plt.legend(loc=\"upper left\", fontsize=14);"
      ],
      "metadata": {
        "id": "AEu2g_OH4f5v",
        "outputId": "d8a81edd-0cea-485e-86e0-4e4e8dec36e0",
        "colab": {
          "base_uri": "https://localhost:8080/",
          "height": 287
        }
      },
      "execution_count": 60,
      "outputs": [
        {
          "output_type": "display_data",
          "data": {
            "text/plain": [
              "<Figure size 432x288 with 1 Axes>"
            ],
            "image/png": "[encoded data removed]"
          },
          "metadata": {
            "needs_background": "light"
          }
        }
      ]
    },
    {
      "cell_type": "code",
      "source": [
        "rmse_lasso = mean_squared_error(y_test, y_pred, squared = False)\n",
        "r2_lasso = r2_score(y_test, y_pred)\n",
        "mae_lasso = metrics.mean_absolute_error(y_test, y_pred)\n",
        "\n",
        "print(f\"El error (rmse) de test es: {rmse_lasso}\")\n",
        "print(f\"El R2 de test es: {r2_lasso}\")\n",
        "print(f'Error medio Absoluto (MAE): {mae_lasso}')"
      ],
      "metadata": {
        "id": "L8LJ4qEH4p54",
        "outputId": "ae0f0a3a-0485-4e51-d9a9-267449be59fc",
        "colab": {
          "base_uri": "https://localhost:8080/"
        }
      },
      "execution_count": 61,
      "outputs": [
        {
          "output_type": "stream",
          "name": "stdout",
          "text": [
            "El error (rmse) de test es: 6.056658768766451\n",
            "El R2 de test es: 0.5673780760089375\n",
            "Error medio Absoluto (MAE): 4.520911055081208\n"
          ]
        }
      ]
    },
    {
      "cell_type": "markdown",
      "source": [
        "## Comparación"
      ],
      "metadata": {
        "id": "BgCKiNvp2hZR"
      }
    },
    {
      "cell_type": "markdown",
      "source": [
        "### RMSE"
      ],
      "metadata": {
        "id": "3ikd8P4O2kDH"
      }
    },
    {
      "cell_type": "code",
      "source": [
        "df_comparacion = pd.DataFrame({\n",
        "                    'modelo': ['Lineal', 'Polinomial', 'Ridge', 'Lasso'],\n",
        "                    'test rmse': [rmse_lin, rmse_pol, rmse_ridge, rmse_lasso]\n",
        "                 })\n",
        "\n",
        "fig, ax = plt.subplots(figsize=(15, 10))\n",
        "df_comparacion.set_index('modelo').plot(kind='barh', ax=ax)\n",
        "ax.set_xlabel('rmse')\n",
        "ax.set_ylabel('modelo')\n",
        "ax.set_title('Comparación de modelos');"
      ],
      "metadata": {
        "id": "lrpN2xSO05hI",
        "outputId": "2d04a7e8-e3e3-4911-fb6a-0d2f643e7552",
        "colab": {
          "base_uri": "https://localhost:8080/",
          "height": 621
        }
      },
      "execution_count": 62,
      "outputs": [
        {
          "output_type": "display_data",
          "data": {
            "text/plain": [
              "<Figure size 1080x720 with 1 Axes>"
            ],
            "image/png": "[encoded data removed]"
          },
          "metadata": {
            "needs_background": "light"
          }
        }
      ]
    },
    {
      "cell_type": "markdown",
      "source": [
        "### R2"
      ],
      "metadata": {
        "id": "bQ6HefjJ2m5d"
      }
    },
    {
      "cell_type": "code",
      "source": [
        "df_comparacion = pd.DataFrame({\n",
        "                    'modelo': ['Lineal', 'Polinomial', 'Ridge', 'Lasso'],\n",
        "                    'test rmse': [r2_lin, r2_pol, r2_ridge, r2_lasso]\n",
        "                 })\n",
        "\n",
        "fig, ax = plt.subplots(figsize=(15, 10))\n",
        "df_comparacion.set_index('modelo').plot(kind='barh', ax=ax)\n",
        "ax.set_xlabel('R2')\n",
        "ax.set_ylabel('modelo')\n",
        "ax.set_title('Comparación de modelos');"
      ],
      "metadata": {
        "id": "7w_YUmvY2p83",
        "outputId": "cdf677ea-6d39-4e33-cf6f-6678b0a0d0cb",
        "colab": {
          "base_uri": "https://localhost:8080/",
          "height": 621
        }
      },
      "execution_count": 63,
      "outputs": [
        {
          "output_type": "display_data",
          "data": {
            "text/plain": [
              "<Figure size 1080x720 with 1 Axes>"
            ],
            "image/png": "[encoded data removed]"
          },
          "metadata": {
            "needs_background": "light"
          }
        }
      ]
    },
    {
      "cell_type": "markdown",
      "source": [
        "### MAE"
      ],
      "metadata": {
        "id": "FKLnodai20UM"
      }
    },
    {
      "cell_type": "code",
      "source": [
        "df_comparacion = pd.DataFrame({\n",
        "                    'modelo': ['Lineal', 'Polinomial', 'Ridge', 'Lasso'],\n",
        "                    'test rmse': [mae_lin, mae_pol, mae_ridge, mae_lasso]\n",
        "                 })\n",
        "\n",
        "fig, ax = plt.subplots(figsize=(15, 10))\n",
        "df_comparacion.set_index('modelo').plot(kind='barh', ax=ax)\n",
        "ax.set_xlabel('MAE')\n",
        "ax.set_ylabel('modelo')\n",
        "ax.set_title('Comparación de modelos');"
      ],
      "metadata": {
        "id": "H2xLoFMW23OT",
        "outputId": "d3c376a3-a55e-47aa-b908-9e3acde0821e",
        "colab": {
          "base_uri": "https://localhost:8080/",
          "height": 621
        }
      },
      "execution_count": 64,
      "outputs": [
        {
          "output_type": "display_data",
          "data": {
            "text/plain": [
              "<Figure size 1080x720 with 1 Axes>"
            ],
            "image/png": "[encoded data removed]"
          },
          "metadata": {
            "needs_background": "light"
          }
        }
      ]
    },
    {
      "cell_type": "markdown",
      "source": [
        "## Conclusiones"
      ],
      "metadata": {
        "id": "gobDfxoo499Y"
      }
    },
    {
      "cell_type": "markdown",
      "source": [
        "Para el ejercicio dividimos nuestros datos en 80% entrenamiento y 20% evaluación.\n",
        "\n",
        "Podemos observar desde la gráfica de la distribución de los datos que el comportamiento iba a ser como de una parábola en vez de una recta.\n",
        "Esto queda demostrado al hacer la comparación de los modelos Lineal, Polinomial, Ridge y Lasso ya que el mejor se agusta a los datos es un modelo polinomial de grado 2, ya que al comparar las métricas de RMSE, R2 y MAE es el que mejor resultados obtuvo."
      ],
      "metadata": {
        "id": "uKQ-0T7I5CoO"
      }
    },
    {
      "cell_type": "markdown",
      "metadata": {
        "id": "CfqcmLmxLoe9"
      },
      "source": [
        "#Ejercicio 2\n",
        "Realiza la regresión polinomial de los siguientes datos:"
      ]
    },
    {
      "cell_type": "code",
      "source": [
        "df = pd.read_csv('https://raw.githubusercontent.com/marypazrf/bdd/main/kc_house_data.csv')\n",
        "df.sample(10)"
      ],
      "metadata": {
        "id": "57bn0j38qGrg",
        "outputId": "b62bca8e-f592-44e0-84c8-6db724e784d1",
        "colab": {
          "base_uri": "https://localhost:8080/",
          "height": 456
        }
      },
      "execution_count": 65,
      "outputs": [
        {
          "output_type": "execute_result",
          "data": {
            "text/plain": [
              "               id             date      price  bedrooms  bathrooms  \\\n",
              "1433   9471200370  20150330T000000  2537000.0         4       3.00   \n",
              "9807   7732501000  20140617T000000   854000.0         4       2.75   \n",
              "10090  2621420060  20140728T000000   275000.0         4       2.50   \n",
              "9575    405100165  20141119T000000   460000.0         2       1.50   \n",
              "12160  2547200160  20150212T000000   601500.0         3       1.75   \n",
              "20147  7548301041  20140623T000000   345000.0         3       1.50   \n",
              "5018   8021700715  20140514T000000   702500.0         3       1.50   \n",
              "14579   871001484  20150115T000000   719000.0         3       1.75   \n",
              "12723  2988800065  20141202T000000   281000.0         2       1.00   \n",
              "5592   2726049071  20141211T000000   510000.0         2       1.00   \n",
              "\n",
              "       sqft_living  sqft_lot  floors  waterfront  view  ...  grade  \\\n",
              "1433          3710     20000     2.0           0     2  ...     10   \n",
              "9807          3150     38865     1.0           0     0  ...     10   \n",
              "10090         2060      5742     2.0           0     0  ...      7   \n",
              "9575          1820      7800     1.0           0     0  ...      7   \n",
              "12160         1460     10128     1.0           0     0  ...      8   \n",
              "20147         1420      1192     2.0           0     0  ...      8   \n",
              "5018          2360      6750     2.0           0     0  ...      7   \n",
              "14579         1800      5816     1.0           0     0  ...      7   \n",
              "12723         1280     12500     1.0           0     0  ...      7   \n",
              "5592           820      4206     1.0           0     0  ...      5   \n",
              "\n",
              "       sqft_above  sqft_basement  yr_built  yr_renovated  zipcode      lat  \\\n",
              "1433         2760            950      1936             0    98105  47.6696   \n",
              "9807         2480            670      1986             0    98052  47.7302   \n",
              "10090        2060              0      1999             0    98030  47.3612   \n",
              "9575         1240            580      1956             0    98133  47.7513   \n",
              "12160        1460              0      1968          2000    98033  47.6709   \n",
              "20147        1140            280      2008             0    98144  47.5881   \n",
              "5018         1930            430      1926             0    98103  47.6923   \n",
              "14579         900            900      1947             0    98199  47.6529   \n",
              "12723        1060            220      1951             0    98178  47.4833   \n",
              "5592          820              0      1949             0    98125  47.7076   \n",
              "\n",
              "          long  sqft_living15  sqft_lot15  \n",
              "1433  -122.261           3970       20000  \n",
              "9807  -122.106           3150       35880  \n",
              "10090 -122.185           1610        7298  \n",
              "9575  -122.357           1400        7800  \n",
              "12160 -122.167           2240       10154  \n",
              "20147 -122.304           1340        1213  \n",
              "5018  -122.332           1320        4500  \n",
              "14579 -122.407           1650        5816  \n",
              "12723 -122.237           1460       17771  \n",
              "5592  -122.284           1810        7200  \n",
              "\n",
              "[10 rows x 21 columns]"
            ],
            "text/html": [
              "\n",
              "  <div id=\"df-9262350b-641c-48e0-8742-000f4aeb205f\">\n",
              "    <div class=\"colab-df-container\">\n",
              "      <div>\n",
              "<style scoped>\n",
              "    .dataframe tbody tr th:only-of-type {\n",
              "        vertical-align: middle;\n",
              "    }\n",
              "\n",
              "    .dataframe tbody tr th {\n",
              "        vertical-align: top;\n",
              "    }\n",
              "\n",
              "    .dataframe thead th {\n",
              "        text-align: right;\n",
              "    }\n",
              "</style>\n",
              "<table border=\"1\" class=\"dataframe\">\n",
              "  <thead>\n",
              "    <tr style=\"text-align: right;\">\n",
              "      <th></th>\n",
              "      <th>id</th>\n",
              "      <th>date</th>\n",
              "      <th>price</th>\n",
              "      <th>bedrooms</th>\n",
              "      <th>bathrooms</th>\n",
              "      <th>sqft_living</th>\n",
              "      <th>sqft_lot</th>\n",
              "      <th>floors</th>\n",
              "      <th>waterfront</th>\n",
              "      <th>view</th>\n",
              "      <th>...</th>\n",
              "      <th>grade</th>\n",
              "      <th>sqft_above</th>\n",
              "      <th>sqft_basement</th>\n",
              "      <th>yr_built</th>\n",
              "      <th>yr_renovated</th>\n",
              "      <th>zipcode</th>\n",
              "      <th>lat</th>\n",
              "      <th>long</th>\n",
              "      <th>sqft_living15</th>\n",
              "      <th>sqft_lot15</th>\n",
              "    </tr>\n",
              "  </thead>\n",
              "  <tbody>\n",
              "    <tr>\n",
              "      <th>1433</th>\n",
              "      <td>9471200370</td>\n",
              "      <td>20150330T000000</td>\n",
              "      <td>2537000.0</td>\n",
              "      <td>4</td>\n",
              "      <td>3.00</td>\n",
              "      <td>3710</td>\n",
              "      <td>20000</td>\n",
              "      <td>2.0</td>\n",
              "      <td>0</td>\n",
              "      <td>2</td>\n",
              "      <td>...</td>\n",
              "      <td>10</td>\n",
              "      <td>2760</td>\n",
              "      <td>950</td>\n",
              "      <td>1936</td>\n",
              "      <td>0</td>\n",
              "      <td>98105</td>\n",
              "      <td>47.6696</td>\n",
              "      <td>-122.261</td>\n",
              "      <td>3970</td>\n",
              "      <td>20000</td>\n",
              "    </tr>\n",
              "    <tr>\n",
              "      <th>9807</th>\n",
              "      <td>7732501000</td>\n",
              "      <td>20140617T000000</td>\n",
              "      <td>854000.0</td>\n",
              "      <td>4</td>\n",
              "      <td>2.75</td>\n",
              "      <td>3150</td>\n",
              "      <td>38865</td>\n",
              "      <td>1.0</td>\n",
              "      <td>0</td>\n",
              "      <td>0</td>\n",
              "      <td>...</td>\n",
              "      <td>10</td>\n",
              "      <td>2480</td>\n",
              "      <td>670</td>\n",
              "      <td>1986</td>\n",
              "      <td>0</td>\n",
              "      <td>98052</td>\n",
              "      <td>47.7302</td>\n",
              "      <td>-122.106</td>\n",
              "      <td>3150</td>\n",
              "      <td>35880</td>\n",
              "    </tr>\n",
              "    <tr>\n",
              "      <th>10090</th>\n",
              "      <td>2621420060</td>\n",
              "      <td>20140728T000000</td>\n",
              "      <td>275000.0</td>\n",
              "      <td>4</td>\n",
              "      <td>2.50</td>\n",
              "      <td>2060</td>\n",
              "      <td>5742</td>\n",
              "      <td>2.0</td>\n",
              "      <td>0</td>\n",
              "      <td>0</td>\n",
              "      <td>...</td>\n",
              "      <td>7</td>\n",
              "      <td>2060</td>\n",
              "      <td>0</td>\n",
              "      <td>1999</td>\n",
              "      <td>0</td>\n",
              "      <td>98030</td>\n",
              "      <td>47.3612</td>\n",
              "      <td>-122.185</td>\n",
              "      <td>1610</td>\n",
              "      <td>7298</td>\n",
              "    </tr>\n",
              "    <tr>\n",
              "      <th>9575</th>\n",
              "      <td>405100165</td>\n",
              "      <td>20141119T000000</td>\n",
              "      <td>460000.0</td>\n",
              "      <td>2</td>\n",
              "      <td>1.50</td>\n",
              "      <td>1820</td>\n",
              "      <td>7800</td>\n",
              "      <td>1.0</td>\n",
              "      <td>0</td>\n",
              "      <td>0</td>\n",
              "      <td>...</td>\n",
              "      <td>7</td>\n",
              "      <td>1240</td>\n",
              "      <td>580</td>\n",
              "      <td>1956</td>\n",
              "      <td>0</td>\n",
              "      <td>98133</td>\n",
              "      <td>47.7513</td>\n",
              "      <td>-122.357</td>\n",
              "      <td>1400</td>\n",
              "      <td>7800</td>\n",
              "    </tr>\n",
              "    <tr>\n",
              "      <th>12160</th>\n",
              "      <td>2547200160</td>\n",
              "      <td>20150212T000000</td>\n",
              "      <td>601500.0</td>\n",
              "      <td>3</td>\n",
              "      <td>1.75</td>\n",
              "      <td>1460</td>\n",
              "      <td>10128</td>\n",
              "      <td>1.0</td>\n",
              "      <td>0</td>\n",
              "      <td>0</td>\n",
              "      <td>...</td>\n",
              "      <td>8</td>\n",
              "      <td>1460</td>\n",
              "      <td>0</td>\n",
              "      <td>1968</td>\n",
              "      <td>2000</td>\n",
              "      <td>98033</td>\n",
              "      <td>47.6709</td>\n",
              "      <td>-122.167</td>\n",
              "      <td>2240</td>\n",
              "      <td>10154</td>\n",
              "    </tr>\n",
              "    <tr>\n",
              "      <th>20147</th>\n",
              "      <td>7548301041</td>\n",
              "      <td>20140623T000000</td>\n",
              "      <td>345000.0</td>\n",
              "      <td>3</td>\n",
              "      <td>1.50</td>\n",
              "      <td>1420</td>\n",
              "      <td>1192</td>\n",
              "      <td>2.0</td>\n",
              "      <td>0</td>\n",
              "      <td>0</td>\n",
              "      <td>...</td>\n",
              "      <td>8</td>\n",
              "      <td>1140</td>\n",
              "      <td>280</td>\n",
              "      <td>2008</td>\n",
              "      <td>0</td>\n",
              "      <td>98144</td>\n",
              "      <td>47.5881</td>\n",
              "      <td>-122.304</td>\n",
              "      <td>1340</td>\n",
              "      <td>1213</td>\n",
              "    </tr>\n",
              "    <tr>\n",
              "      <th>5018</th>\n",
              "      <td>8021700715</td>\n",
              "      <td>20140514T000000</td>\n",
              "      <td>702500.0</td>\n",
              "      <td>3</td>\n",
              "      <td>1.50</td>\n",
              "      <td>2360</td>\n",
              "      <td>6750</td>\n",
              "      <td>2.0</td>\n",
              "      <td>0</td>\n",
              "      <td>0</td>\n",
              "      <td>...</td>\n",
              "      <td>7</td>\n",
              "      <td>1930</td>\n",
              "      <td>430</td>\n",
              "      <td>1926</td>\n",
              "      <td>0</td>\n",
              "      <td>98103</td>\n",
              "      <td>47.6923</td>\n",
              "      <td>-122.332</td>\n",
              "      <td>1320</td>\n",
              "      <td>4500</td>\n",
              "    </tr>\n",
              "    <tr>\n",
              "      <th>14579</th>\n",
              "      <td>871001484</td>\n",
              "      <td>20150115T000000</td>\n",
              "      <td>719000.0</td>\n",
              "      <td>3</td>\n",
              "      <td>1.75</td>\n",
              "      <td>1800</td>\n",
              "      <td>5816</td>\n",
              "      <td>1.0</td>\n",
              "      <td>0</td>\n",
              "      <td>0</td>\n",
              "      <td>...</td>\n",
              "      <td>7</td>\n",
              "      <td>900</td>\n",
              "      <td>900</td>\n",
              "      <td>1947</td>\n",
              "      <td>0</td>\n",
              "      <td>98199</td>\n",
              "      <td>47.6529</td>\n",
              "      <td>-122.407</td>\n",
              "      <td>1650</td>\n",
              "      <td>5816</td>\n",
              "    </tr>\n",
              "    <tr>\n",
              "      <th>12723</th>\n",
              "      <td>2988800065</td>\n",
              "      <td>20141202T000000</td>\n",
              "      <td>281000.0</td>\n",
              "      <td>2</td>\n",
              "      <td>1.00</td>\n",
              "      <td>1280</td>\n",
              "      <td>12500</td>\n",
              "      <td>1.0</td>\n",
              "      <td>0</td>\n",
              "      <td>0</td>\n",
              "      <td>...</td>\n",
              "      <td>7</td>\n",
              "      <td>1060</td>\n",
              "      <td>220</td>\n",
              "      <td>1951</td>\n",
              "      <td>0</td>\n",
              "      <td>98178</td>\n",
              "      <td>47.4833</td>\n",
              "      <td>-122.237</td>\n",
              "      <td>1460</td>\n",
              "      <td>17771</td>\n",
              "    </tr>\n",
              "    <tr>\n",
              "      <th>5592</th>\n",
              "      <td>2726049071</td>\n",
              "      <td>20141211T000000</td>\n",
              "      <td>510000.0</td>\n",
              "      <td>2</td>\n",
              "      <td>1.00</td>\n",
              "      <td>820</td>\n",
              "      <td>4206</td>\n",
              "      <td>1.0</td>\n",
              "      <td>0</td>\n",
              "      <td>0</td>\n",
              "      <td>...</td>\n",
              "      <td>5</td>\n",
              "      <td>820</td>\n",
              "      <td>0</td>\n",
              "      <td>1949</td>\n",
              "      <td>0</td>\n",
              "      <td>98125</td>\n",
              "      <td>47.7076</td>\n",
              "      <td>-122.284</td>\n",
              "      <td>1810</td>\n",
              "      <td>7200</td>\n",
              "    </tr>\n",
              "  </tbody>\n",
              "</table>\n",
              "<p>10 rows × 21 columns</p>\n",
              "</div>\n",
              "      <button class=\"colab-df-convert\" onclick=\"convertToInteractive('df-9262350b-641c-48e0-8742-000f4aeb205f')\"\n",
              "              title=\"Convert this dataframe to an interactive table.\"\n",
              "              style=\"display:none;\">\n",
              "        \n",
              "  <svg xmlns=\"http://www.w3.org/2000/svg\" height=\"24px\"viewBox=\"0 0 24 24\"\n",
              "       width=\"24px\">\n",
              "    <path d=\"M0 0h24v24H0V0z\" fill=\"none\"/>\n",
              "    <path d=\"M18.56 5.44l.94 2.06.94-2.06 2.06-.94-2.06-.94-.94-2.06-.94 2.06-2.06.94zm-11 1L8.5 8.5l.94-2.06 2.06-.94-2.06-.94L8.5 2.5l-.94 2.06-2.06.94zm10 10l.94 2.06.94-2.06 2.06-.94-2.06-.94-.94-2.06-.94 2.06-2.06.94z\"/><path d=\"M17.41 7.96l-1.37-1.37c-.4-.4-.92-.59-1.43-.59-.52 0-1.04.2-1.43.59L10.3 9.45l-7.72 7.72c-.78.78-.78 2.05 0 2.83L4 21.41c.39.39.9.59 1.41.59.51 0 1.02-.2 1.41-.59l7.78-7.78 2.81-2.81c.8-.78.8-2.07 0-2.86zM5.41 20L4 18.59l7.72-7.72 1.47 1.35L5.41 20z\"/>\n",
              "  </svg>\n",
              "      </button>\n",
              "      \n",
              "  <style>\n",
              "    .colab-df-container {\n",
              "      display:flex;\n",
              "      flex-wrap:wrap;\n",
              "      gap: 12px;\n",
              "    }\n",
              "\n",
              "    .colab-df-convert {\n",
              "      background-color: #E8F0FE;\n",
              "      border: none;\n",
              "      border-radius: 50%;\n",
              "      cursor: pointer;\n",
              "      display: none;\n",
              "      fill: #1967D2;\n",
              "      height: 32px;\n",
              "      padding: 0 0 0 0;\n",
              "      width: 32px;\n",
              "    }\n",
              "\n",
              "    .colab-df-convert:hover {\n",
              "      background-color: #E2EBFA;\n",
              "      box-shadow: 0px 1px 2px rgba(60, 64, 67, 0.3), 0px 1px 3px 1px rgba(60, 64, 67, 0.15);\n",
              "      fill: #174EA6;\n",
              "    }\n",
              "\n",
              "    [theme=dark] .colab-df-convert {\n",
              "      background-color: #3B4455;\n",
              "      fill: #D2E3FC;\n",
              "    }\n",
              "\n",
              "    [theme=dark] .colab-df-convert:hover {\n",
              "      background-color: #434B5C;\n",
              "      box-shadow: 0px 1px 3px 1px rgba(0, 0, 0, 0.15);\n",
              "      filter: drop-shadow(0px 1px 2px rgba(0, 0, 0, 0.3));\n",
              "      fill: #FFFFFF;\n",
              "    }\n",
              "  </style>\n",
              "\n",
              "      <script>\n",
              "        const buttonEl =\n",
              "          document.querySelector('#df-9262350b-641c-48e0-8742-000f4aeb205f button.colab-df-convert');\n",
              "        buttonEl.style.display =\n",
              "          google.colab.kernel.accessAllowed ? 'block' : 'none';\n",
              "\n",
              "        async function convertToInteractive(key) {\n",
              "          const element = document.querySelector('#df-9262350b-641c-48e0-8742-000f4aeb205f');\n",
              "          const dataTable =\n",
              "            await google.colab.kernel.invokeFunction('convertToInteractive',\n",
              "                                                     [key], {});\n",
              "          if (!dataTable) return;\n",
              "\n",
              "          const docLinkHtml = 'Like what you see? Visit the ' +\n",
              "            '<a target=\"_blank\" href=https://colab.research.google.com/notebooks/data_table.ipynb>data table notebook</a>'\n",
              "            + ' to learn more about interactive tables.';\n",
              "          element.innerHTML = '';\n",
              "          dataTable['output_type'] = 'display_data';\n",
              "          await google.colab.output.renderOutput(dataTable, element);\n",
              "          const docLink = document.createElement('div');\n",
              "          docLink.innerHTML = docLinkHtml;\n",
              "          element.appendChild(docLink);\n",
              "        }\n",
              "      </script>\n",
              "    </div>\n",
              "  </div>\n",
              "  "
            ]
          },
          "metadata": {},
          "execution_count": 65
        }
      ]
    },
    {
      "cell_type": "code",
      "source": [
        "df.info()"
      ],
      "metadata": {
        "id": "n0fs14KoqI3M",
        "outputId": "2842a2fe-85ca-4590-e495-8851fc2ec608",
        "colab": {
          "base_uri": "https://localhost:8080/"
        }
      },
      "execution_count": 66,
      "outputs": [
        {
          "output_type": "stream",
          "name": "stdout",
          "text": [
            "<class 'pandas.core.frame.DataFrame'>\n",
            "RangeIndex: 21613 entries, 0 to 21612\n",
            "Data columns (total 21 columns):\n",
            " #   Column         Non-Null Count  Dtype  \n",
            "---  ------         --------------  -----  \n",
            " 0   id             21613 non-null  int64  \n",
            " 1   date           21613 non-null  object \n",
            " 2   price          21613 non-null  float64\n",
            " 3   bedrooms       21613 non-null  int64  \n",
            " 4   bathrooms      21613 non-null  float64\n",
            " 5   sqft_living    21613 non-null  int64  \n",
            " 6   sqft_lot       21613 non-null  int64  \n",
            " 7   floors         21613 non-null  float64\n",
            " 8   waterfront     21613 non-null  int64  \n",
            " 9   view           21613 non-null  int64  \n",
            " 10  condition      21613 non-null  int64  \n",
            " 11  grade          21613 non-null  int64  \n",
            " 12  sqft_above     21613 non-null  int64  \n",
            " 13  sqft_basement  21613 non-null  int64  \n",
            " 14  yr_built       21613 non-null  int64  \n",
            " 15  yr_renovated   21613 non-null  int64  \n",
            " 16  zipcode        21613 non-null  int64  \n",
            " 17  lat            21613 non-null  float64\n",
            " 18  long           21613 non-null  float64\n",
            " 19  sqft_living15  21613 non-null  int64  \n",
            " 20  sqft_lot15     21613 non-null  int64  \n",
            "dtypes: float64(5), int64(15), object(1)\n",
            "memory usage: 3.5+ MB\n"
          ]
        }
      ]
    },
    {
      "cell_type": "code",
      "source": [
        "df.describe()"
      ],
      "metadata": {
        "id": "1PNzDJZeqKhe",
        "outputId": "4ddf5f81-d7eb-4890-8506-d31eb922417a",
        "colab": {
          "base_uri": "https://localhost:8080/",
          "height": 364
        }
      },
      "execution_count": 67,
      "outputs": [
        {
          "output_type": "execute_result",
          "data": {
            "text/plain": [
              "                 id         price      bedrooms     bathrooms   sqft_living  \\\n",
              "count  2.161300e+04  2.161300e+04  21613.000000  21613.000000  21613.000000   \n",
              "mean   4.580302e+09  5.400881e+05      3.370842      2.114757   2079.899736   \n",
              "std    2.876566e+09  3.671272e+05      0.930062      0.770163    918.440897   \n",
              "min    1.000102e+06  7.500000e+04      0.000000      0.000000    290.000000   \n",
              "25%    2.123049e+09  3.219500e+05      3.000000      1.750000   1427.000000   \n",
              "50%    3.904930e+09  4.500000e+05      3.000000      2.250000   1910.000000   \n",
              "75%    7.308900e+09  6.450000e+05      4.000000      2.500000   2550.000000   \n",
              "max    9.900000e+09  7.700000e+06     33.000000      8.000000  13540.000000   \n",
              "\n",
              "           sqft_lot        floors    waterfront          view     condition  \\\n",
              "count  2.161300e+04  21613.000000  21613.000000  21613.000000  21613.000000   \n",
              "mean   1.510697e+04      1.494309      0.007542      0.234303      3.409430   \n",
              "std    4.142051e+04      0.539989      0.086517      0.766318      0.650743   \n",
              "min    5.200000e+02      1.000000      0.000000      0.000000      1.000000   \n",
              "25%    5.040000e+03      1.000000      0.000000      0.000000      3.000000   \n",
              "50%    7.618000e+03      1.500000      0.000000      0.000000      3.000000   \n",
              "75%    1.068800e+04      2.000000      0.000000      0.000000      4.000000   \n",
              "max    1.651359e+06      3.500000      1.000000      4.000000      5.000000   \n",
              "\n",
              "              grade    sqft_above  sqft_basement      yr_built  yr_renovated  \\\n",
              "count  21613.000000  21613.000000   21613.000000  21613.000000  21613.000000   \n",
              "mean       7.656873   1788.390691     291.509045   1971.005136     84.402258   \n",
              "std        1.175459    828.090978     442.575043     29.373411    401.679240   \n",
              "min        1.000000    290.000000       0.000000   1900.000000      0.000000   \n",
              "25%        7.000000   1190.000000       0.000000   1951.000000      0.000000   \n",
              "50%        7.000000   1560.000000       0.000000   1975.000000      0.000000   \n",
              "75%        8.000000   2210.000000     560.000000   1997.000000      0.000000   \n",
              "max       13.000000   9410.000000    4820.000000   2015.000000   2015.000000   \n",
              "\n",
              "            zipcode           lat          long  sqft_living15     sqft_lot15  \n",
              "count  21613.000000  21613.000000  21613.000000   21613.000000   21613.000000  \n",
              "mean   98077.939805     47.560053   -122.213896    1986.552492   12768.455652  \n",
              "std       53.505026      0.138564      0.140828     685.391304   27304.179631  \n",
              "min    98001.000000     47.155900   -122.519000     399.000000     651.000000  \n",
              "25%    98033.000000     47.471000   -122.328000    1490.000000    5100.000000  \n",
              "50%    98065.000000     47.571800   -122.230000    1840.000000    7620.000000  \n",
              "75%    98118.000000     47.678000   -122.125000    2360.000000   10083.000000  \n",
              "max    98199.000000     47.777600   -121.315000    6210.000000  871200.000000  "
            ],
            "text/html": [
              "\n",
              "  <div id=\"df-569c4c5f-ae3a-4e2d-a509-8de171093b82\">\n",
              "    <div class=\"colab-df-container\">\n",
              "      <div>\n",
              "<style scoped>\n",
              "    .dataframe tbody tr th:only-of-type {\n",
              "        vertical-align: middle;\n",
              "    }\n",
              "\n",
              "    .dataframe tbody tr th {\n",
              "        vertical-align: top;\n",
              "    }\n",
              "\n",
              "    .dataframe thead th {\n",
              "        text-align: right;\n",
              "    }\n",
              "</style>\n",
              "<table border=\"1\" class=\"dataframe\">\n",
              "  <thead>\n",
              "    <tr style=\"text-align: right;\">\n",
              "      <th></th>\n",
              "      <th>id</th>\n",
              "      <th>price</th>\n",
              "      <th>bedrooms</th>\n",
              "      <th>bathrooms</th>\n",
              "      <th>sqft_living</th>\n",
              "      <th>sqft_lot</th>\n",
              "      <th>floors</th>\n",
              "      <th>waterfront</th>\n",
              "      <th>view</th>\n",
              "      <th>condition</th>\n",
              "      <th>grade</th>\n",
              "      <th>sqft_above</th>\n",
              "      <th>sqft_basement</th>\n",
              "      <th>yr_built</th>\n",
              "      <th>yr_renovated</th>\n",
              "      <th>zipcode</th>\n",
              "      <th>lat</th>\n",
              "      <th>long</th>\n",
              "      <th>sqft_living15</th>\n",
              "      <th>sqft_lot15</th>\n",
              "    </tr>\n",
              "  </thead>\n",
              "  <tbody>\n",
              "    <tr>\n",
              "      <th>count</th>\n",
              "      <td>2.161300e+04</td>\n",
              "      <td>2.161300e+04</td>\n",
              "      <td>21613.000000</td>\n",
              "      <td>21613.000000</td>\n",
              "      <td>21613.000000</td>\n",
              "      <td>2.161300e+04</td>\n",
              "      <td>21613.000000</td>\n",
              "      <td>21613.000000</td>\n",
              "      <td>21613.000000</td>\n",
              "      <td>21613.000000</td>\n",
              "      <td>21613.000000</td>\n",
              "      <td>21613.000000</td>\n",
              "      <td>21613.000000</td>\n",
              "      <td>21613.000000</td>\n",
              "      <td>21613.000000</td>\n",
              "      <td>21613.000000</td>\n",
              "      <td>21613.000000</td>\n",
              "      <td>21613.000000</td>\n",
              "      <td>21613.000000</td>\n",
              "      <td>21613.000000</td>\n",
              "    </tr>\n",
              "    <tr>\n",
              "      <th>mean</th>\n",
              "      <td>4.580302e+09</td>\n",
              "      <td>5.400881e+05</td>\n",
              "      <td>3.370842</td>\n",
              "      <td>2.114757</td>\n",
              "      <td>2079.899736</td>\n",
              "      <td>1.510697e+04</td>\n",
              "      <td>1.494309</td>\n",
              "      <td>0.007542</td>\n",
              "      <td>0.234303</td>\n",
              "      <td>3.409430</td>\n",
              "      <td>7.656873</td>\n",
              "      <td>1788.390691</td>\n",
              "      <td>291.509045</td>\n",
              "      <td>1971.005136</td>\n",
              "      <td>84.402258</td>\n",
              "      <td>98077.939805</td>\n",
              "      <td>47.560053</td>\n",
              "      <td>-122.213896</td>\n",
              "      <td>1986.552492</td>\n",
              "      <td>12768.455652</td>\n",
              "    </tr>\n",
              "    <tr>\n",
              "      <th>std</th>\n",
              "      <td>2.876566e+09</td>\n",
              "      <td>3.671272e+05</td>\n",
              "      <td>0.930062</td>\n",
              "      <td>0.770163</td>\n",
              "      <td>918.440897</td>\n",
              "      <td>4.142051e+04</td>\n",
              "      <td>0.539989</td>\n",
              "      <td>0.086517</td>\n",
              "      <td>0.766318</td>\n",
              "      <td>0.650743</td>\n",
              "      <td>1.175459</td>\n",
              "      <td>828.090978</td>\n",
              "      <td>442.575043</td>\n",
              "      <td>29.373411</td>\n",
              "      <td>401.679240</td>\n",
              "      <td>53.505026</td>\n",
              "      <td>0.138564</td>\n",
              "      <td>0.140828</td>\n",
              "      <td>685.391304</td>\n",
              "      <td>27304.179631</td>\n",
              "    </tr>\n",
              "    <tr>\n",
              "      <th>min</th>\n",
              "      <td>1.000102e+06</td>\n",
              "      <td>7.500000e+04</td>\n",
              "      <td>0.000000</td>\n",
              "      <td>0.000000</td>\n",
              "      <td>290.000000</td>\n",
              "      <td>5.200000e+02</td>\n",
              "      <td>1.000000</td>\n",
              "      <td>0.000000</td>\n",
              "      <td>0.000000</td>\n",
              "      <td>1.000000</td>\n",
              "      <td>1.000000</td>\n",
              "      <td>290.000000</td>\n",
              "      <td>0.000000</td>\n",
              "      <td>1900.000000</td>\n",
              "      <td>0.000000</td>\n",
              "      <td>98001.000000</td>\n",
              "      <td>47.155900</td>\n",
              "      <td>-122.519000</td>\n",
              "      <td>399.000000</td>\n",
              "      <td>651.000000</td>\n",
              "    </tr>\n",
              "    <tr>\n",
              "      <th>25%</th>\n",
              "      <td>2.123049e+09</td>\n",
              "      <td>3.219500e+05</td>\n",
              "      <td>3.000000</td>\n",
              "      <td>1.750000</td>\n",
              "      <td>1427.000000</td>\n",
              "      <td>5.040000e+03</td>\n",
              "      <td>1.000000</td>\n",
              "      <td>0.000000</td>\n",
              "      <td>0.000000</td>\n",
              "      <td>3.000000</td>\n",
              "      <td>7.000000</td>\n",
              "      <td>1190.000000</td>\n",
              "      <td>0.000000</td>\n",
              "      <td>1951.000000</td>\n",
              "      <td>0.000000</td>\n",
              "      <td>98033.000000</td>\n",
              "      <td>47.471000</td>\n",
              "      <td>-122.328000</td>\n",
              "      <td>1490.000000</td>\n",
              "      <td>5100.000000</td>\n",
              "    </tr>\n",
              "    <tr>\n",
              "      <th>50%</th>\n",
              "      <td>3.904930e+09</td>\n",
              "      <td>4.500000e+05</td>\n",
              "      <td>3.000000</td>\n",
              "      <td>2.250000</td>\n",
              "      <td>1910.000000</td>\n",
              "      <td>7.618000e+03</td>\n",
              "      <td>1.500000</td>\n",
              "      <td>0.000000</td>\n",
              "      <td>0.000000</td>\n",
              "      <td>3.000000</td>\n",
              "      <td>7.000000</td>\n",
              "      <td>1560.000000</td>\n",
              "      <td>0.000000</td>\n",
              "      <td>1975.000000</td>\n",
              "      <td>0.000000</td>\n",
              "      <td>98065.000000</td>\n",
              "      <td>47.571800</td>\n",
              "      <td>-122.230000</td>\n",
              "      <td>1840.000000</td>\n",
              "      <td>7620.000000</td>\n",
              "    </tr>\n",
              "    <tr>\n",
              "      <th>75%</th>\n",
              "      <td>7.308900e+09</td>\n",
              "      <td>6.450000e+05</td>\n",
              "      <td>4.000000</td>\n",
              "      <td>2.500000</td>\n",
              "      <td>2550.000000</td>\n",
              "      <td>1.068800e+04</td>\n",
              "      <td>2.000000</td>\n",
              "      <td>0.000000</td>\n",
              "      <td>0.000000</td>\n",
              "      <td>4.000000</td>\n",
              "      <td>8.000000</td>\n",
              "      <td>2210.000000</td>\n",
              "      <td>560.000000</td>\n",
              "      <td>1997.000000</td>\n",
              "      <td>0.000000</td>\n",
              "      <td>98118.000000</td>\n",
              "      <td>47.678000</td>\n",
              "      <td>-122.125000</td>\n",
              "      <td>2360.000000</td>\n",
              "      <td>10083.000000</td>\n",
              "    </tr>\n",
              "    <tr>\n",
              "      <th>max</th>\n",
              "      <td>9.900000e+09</td>\n",
              "      <td>7.700000e+06</td>\n",
              "      <td>33.000000</td>\n",
              "      <td>8.000000</td>\n",
              "      <td>13540.000000</td>\n",
              "      <td>1.651359e+06</td>\n",
              "      <td>3.500000</td>\n",
              "      <td>1.000000</td>\n",
              "      <td>4.000000</td>\n",
              "      <td>5.000000</td>\n",
              "      <td>13.000000</td>\n",
              "      <td>9410.000000</td>\n",
              "      <td>4820.000000</td>\n",
              "      <td>2015.000000</td>\n",
              "      <td>2015.000000</td>\n",
              "      <td>98199.000000</td>\n",
              "      <td>47.777600</td>\n",
              "      <td>-121.315000</td>\n",
              "      <td>6210.000000</td>\n",
              "      <td>871200.000000</td>\n",
              "    </tr>\n",
              "  </tbody>\n",
              "</table>\n",
              "</div>\n",
              "      <button class=\"colab-df-convert\" onclick=\"convertToInteractive('df-569c4c5f-ae3a-4e2d-a509-8de171093b82')\"\n",
              "              title=\"Convert this dataframe to an interactive table.\"\n",
              "              style=\"display:none;\">\n",
              "        \n",
              "  <svg xmlns=\"http://www.w3.org/2000/svg\" height=\"24px\"viewBox=\"0 0 24 24\"\n",
              "       width=\"24px\">\n",
              "    <path d=\"M0 0h24v24H0V0z\" fill=\"none\"/>\n",
              "    <path d=\"M18.56 5.44l.94 2.06.94-2.06 2.06-.94-2.06-.94-.94-2.06-.94 2.06-2.06.94zm-11 1L8.5 8.5l.94-2.06 2.06-.94-2.06-.94L8.5 2.5l-.94 2.06-2.06.94zm10 10l.94 2.06.94-2.06 2.06-.94-2.06-.94-.94-2.06-.94 2.06-2.06.94z\"/><path d=\"M17.41 7.96l-1.37-1.37c-.4-.4-.92-.59-1.43-.59-.52 0-1.04.2-1.43.59L10.3 9.45l-7.72 7.72c-.78.78-.78 2.05 0 2.83L4 21.41c.39.39.9.59 1.41.59.51 0 1.02-.2 1.41-.59l7.78-7.78 2.81-2.81c.8-.78.8-2.07 0-2.86zM5.41 20L4 18.59l7.72-7.72 1.47 1.35L5.41 20z\"/>\n",
              "  </svg>\n",
              "      </button>\n",
              "      \n",
              "  <style>\n",
              "    .colab-df-container {\n",
              "      display:flex;\n",
              "      flex-wrap:wrap;\n",
              "      gap: 12px;\n",
              "    }\n",
              "\n",
              "    .colab-df-convert {\n",
              "      background-color: #E8F0FE;\n",
              "      border: none;\n",
              "      border-radius: 50%;\n",
              "      cursor: pointer;\n",
              "      display: none;\n",
              "      fill: #1967D2;\n",
              "      height: 32px;\n",
              "      padding: 0 0 0 0;\n",
              "      width: 32px;\n",
              "    }\n",
              "\n",
              "    .colab-df-convert:hover {\n",
              "      background-color: #E2EBFA;\n",
              "      box-shadow: 0px 1px 2px rgba(60, 64, 67, 0.3), 0px 1px 3px 1px rgba(60, 64, 67, 0.15);\n",
              "      fill: #174EA6;\n",
              "    }\n",
              "\n",
              "    [theme=dark] .colab-df-convert {\n",
              "      background-color: #3B4455;\n",
              "      fill: #D2E3FC;\n",
              "    }\n",
              "\n",
              "    [theme=dark] .colab-df-convert:hover {\n",
              "      background-color: #434B5C;\n",
              "      box-shadow: 0px 1px 3px 1px rgba(0, 0, 0, 0.15);\n",
              "      filter: drop-shadow(0px 1px 2px rgba(0, 0, 0, 0.3));\n",
              "      fill: #FFFFFF;\n",
              "    }\n",
              "  </style>\n",
              "\n",
              "      <script>\n",
              "        const buttonEl =\n",
              "          document.querySelector('#df-569c4c5f-ae3a-4e2d-a509-8de171093b82 button.colab-df-convert');\n",
              "        buttonEl.style.display =\n",
              "          google.colab.kernel.accessAllowed ? 'block' : 'none';\n",
              "\n",
              "        async function convertToInteractive(key) {\n",
              "          const element = document.querySelector('#df-569c4c5f-ae3a-4e2d-a509-8de171093b82');\n",
              "          const dataTable =\n",
              "            await google.colab.kernel.invokeFunction('convertToInteractive',\n",
              "                                                     [key], {});\n",
              "          if (!dataTable) return;\n",
              "\n",
              "          const docLinkHtml = 'Like what you see? Visit the ' +\n",
              "            '<a target=\"_blank\" href=https://colab.research.google.com/notebooks/data_table.ipynb>data table notebook</a>'\n",
              "            + ' to learn more about interactive tables.';\n",
              "          element.innerHTML = '';\n",
              "          dataTable['output_type'] = 'display_data';\n",
              "          await google.colab.output.renderOutput(dataTable, element);\n",
              "          const docLink = document.createElement('div');\n",
              "          docLink.innerHTML = docLinkHtml;\n",
              "          element.appendChild(docLink);\n",
              "        }\n",
              "      </script>\n",
              "    </div>\n",
              "  </div>\n",
              "  "
            ]
          },
          "metadata": {},
          "execution_count": 67
        }
      ]
    },
    {
      "cell_type": "code",
      "source": [
        "df.drop('id', axis = 1, inplace = True)\n",
        "df.drop('date', axis = 1, inplace = True)\n",
        "df.drop('zipcode', axis = 1, inplace = True)\n",
        "df.drop('lat', axis = 1, inplace = True)\n",
        "df.drop('long', axis = 1, inplace = True)\n"
      ],
      "metadata": {
        "id": "0KUD8T08qMmq"
      },
      "execution_count": 68,
      "outputs": []
    },
    {
      "cell_type": "code",
      "source": [
        "plt.figure(figsize=(12,8)) \n",
        "sns.heatmap(df.corr(), annot=True, cmap='Dark2_r', linewidths = 2)\n",
        "plt.show()"
      ],
      "metadata": {
        "id": "r-jk_nHmqKpp",
        "outputId": "20b7cd12-ffdb-4fb7-8e02-7c0423148449",
        "colab": {
          "base_uri": "https://localhost:8080/",
          "height": 551
        }
      },
      "execution_count": 69,
      "outputs": [
        {
          "output_type": "display_data",
          "data": {
            "text/plain": [
              "<Figure size 864x576 with 2 Axes>"
            ],
            "image/png": "[encoded data removed]"
          },
          "metadata": {
            "needs_background": "light"
          }
        }
      ]
    },
    {
      "cell_type": "code",
      "source": [
        "columns = df.columns.drop('price')\n",
        "\n",
        "features = columns\n",
        "label = ['price']\n",
        "\n",
        "X = df[features]\n",
        "y = df[label]"
      ],
      "metadata": {
        "id": "p4zqCnFwq7Oc"
      },
      "execution_count": 70,
      "outputs": []
    },
    {
      "cell_type": "code",
      "source": [
        "from sklearn.model_selection import train_test_split\n",
        "X_train, X_test, y_train, y_test = train_test_split(X, y, train_size   = 0.8, random_state = 1234, shuffle = True)\n",
        "\n",
        "print(f'Numero total de registros en la bdd: {len(X)}')\n",
        "print(\"*****\"*10)\n",
        "print(f'Numero total de registros en el training set: {len(X_train)}')\n",
        "print(f'Tamaño de X_train: {X_train.shape}')\n",
        "print(\"*****\"*10)\n",
        "print(f'Mumero total de registros en el test dataset: {len(X_test)}')\n",
        "print(f'Tamaño del X_test: {X_test.shape}')"
      ],
      "metadata": {
        "id": "p91PEVPLq93-",
        "outputId": "5bfb046d-51ba-4b10-ce10-b0341466ae77",
        "colab": {
          "base_uri": "https://localhost:8080/"
        }
      },
      "execution_count": 71,
      "outputs": [
        {
          "output_type": "stream",
          "name": "stdout",
          "text": [
            "Numero total de registros en la bdd: 21613\n",
            "**************************************************\n",
            "Numero total de registros en el training set: 17290\n",
            "Tamaño de X_train: (17290, 15)\n",
            "**************************************************\n",
            "Mumero total de registros en el test dataset: 4323\n",
            "Tamaño del X_test: (4323, 15)\n"
          ]
        }
      ]
    },
    {
      "cell_type": "markdown",
      "source": [
        "## Multiple Lineal"
      ],
      "metadata": {
        "id": "ReP15a667vZy"
      }
    },
    {
      "cell_type": "code",
      "source": [
        "linear_reg = LinearRegression(fit_intercept=True)\n",
        "linear_reg.fit(X_test, y_test)"
      ],
      "metadata": {
        "id": "0faHrN8-rv9V",
        "outputId": "b61fff85-a946-4b12-d167-19ea8e3c02fb",
        "colab": {
          "base_uri": "https://localhost:8080/"
        }
      },
      "execution_count": 72,
      "outputs": [
        {
          "output_type": "execute_result",
          "data": {
            "text/plain": [
              "LinearRegression()"
            ]
          },
          "metadata": {},
          "execution_count": 72
        }
      ]
    },
    {
      "cell_type": "code",
      "source": [
        "y_pred = linear_reg.predict(X_test)"
      ],
      "metadata": {
        "id": "JlrNqrDA7jCf"
      },
      "execution_count": 73,
      "outputs": []
    },
    {
      "cell_type": "code",
      "source": [
        "linear_reg.coef_, linear_reg.intercept_"
      ],
      "metadata": {
        "id": "vdcm-cjP7225",
        "outputId": "b74f2e89-0a25-4a7a-ceec-75db4dc111b2",
        "colab": {
          "base_uri": "https://localhost:8080/"
        }
      },
      "execution_count": 74,
      "outputs": [
        {
          "output_type": "execute_result",
          "data": {
            "text/plain": [
              "(array([[-3.91767520e+04,  3.46700074e+04,  1.09365666e+02,\n",
              "          2.32160012e-01,  2.05948232e+04,  6.96531027e+05,\n",
              "          4.36022218e+04,  1.13697483e+04,  1.20088862e+05,\n",
              "          4.77225879e+01,  6.16430781e+01, -3.26603117e+03,\n",
              "          1.18176190e+01,  2.03351468e+01, -6.75454244e-01]]),\n",
              " array([5661843.60028206]))"
            ]
          },
          "metadata": {},
          "execution_count": 74
        }
      ]
    },
    {
      "cell_type": "code",
      "source": [
        "rmse_lin = mean_squared_error(y_test, y_pred, squared = False)\n",
        "r2_lin = r2_score(y_test, y_pred)\n",
        "mae_lin = metrics.mean_absolute_error(y_test, y_pred)\n",
        "\n",
        "print(f\"El error (rmse) de test es: {rmse_lin}\")\n",
        "print(f\"El R2 de test es: {r2_lin}\")\n",
        "print(f'Error medio Absoluto (MAE): {mae_lin}')"
      ],
      "metadata": {
        "id": "QcT5VocF752C",
        "outputId": "f00b16f6-7cfc-48d5-e64b-ee98af86b38d",
        "colab": {
          "base_uri": "https://localhost:8080/"
        }
      },
      "execution_count": 75,
      "outputs": [
        {
          "output_type": "stream",
          "name": "stdout",
          "text": [
            "El error (rmse) de test es: 210804.0351655288\n",
            "El R2 de test es: 0.6621079062632002\n",
            "Error medio Absoluto (MAE): 136811.82686437044\n"
          ]
        }
      ]
    },
    {
      "cell_type": "markdown",
      "source": [
        "## Multiple Polinomial"
      ],
      "metadata": {
        "id": "J-d0fRx68Cwl"
      }
    },
    {
      "cell_type": "code",
      "source": [
        "poly_features = PolynomialFeatures(degree = 2, include_bias = False)\n",
        "X_poly = poly_features.fit_transform(X_train)"
      ],
      "metadata": {
        "id": "E552G7JV8CAd"
      },
      "execution_count": 76,
      "outputs": []
    },
    {
      "cell_type": "code",
      "source": [
        "lin_reg = LinearRegression(fit_intercept=True)\n",
        "lin_reg.fit(X_poly, y_train)\n",
        "lin_reg.coef_, lin_reg.intercept_"
      ],
      "metadata": {
        "id": "qvKGRWWX79zd",
        "outputId": "172e68a3-ab79-42cd-ff80-2c90ca561932",
        "colab": {
          "base_uri": "https://localhost:8080/"
        }
      },
      "execution_count": 77,
      "outputs": [
        {
          "output_type": "execute_result",
          "data": {
            "text/plain": [
              "(array([[ 1.01488927e+06, -7.21180353e+05,  3.58661217e+03,\n",
              "         -3.41253188e+01, -2.08973550e+06, -3.58281267e+06,\n",
              "          9.95813614e+04,  5.28462496e+05,  1.17722581e+06,\n",
              "         -4.47151676e+03, -4.69789524e+03, -8.82412692e+04,\n",
              "         -3.09423328e+03,  3.70624552e+03, -3.24827563e+01,\n",
              "          6.49330446e+02,  4.98970232e+03, -1.56194909e+02,\n",
              "          1.38410821e-01,  1.41331860e+04,  3.59084450e+04,\n",
              "         -6.41205522e+03, -1.04598466e+02, -3.90705060e+03,\n",
              "          1.40591963e+02,  1.27581383e+02, -5.21218649e+02,\n",
              "         -1.06547880e+01,  1.65879119e+01,  1.49270066e-01,\n",
              "         -4.88631944e+03,  4.59319624e+01, -3.90955612e-01,\n",
              "         -2.82025301e+04,  3.34307214e+03,  1.24438826e+04,\n",
              "         -4.66665185e+03,  1.45634646e+04, -5.71349386e+00,\n",
              "         -2.55334489e+01,  3.37957391e+02, -1.26642944e+01,\n",
              "         -1.89632192e+01,  3.59712559e-02,  1.53023086e+03,\n",
              "          1.13943416e+03, -9.40627230e+00,  1.16838958e+02,\n",
              "         -5.10351680e+00,  6.27353366e+00,  2.70165939e+01,\n",
              "         -1.31915172e+03, -1.05751295e+03,  2.51230161e+02,\n",
              "          2.56146640e+01, -4.18349509e+02, -3.43909238e+03,\n",
              "          2.96276994e-07,  5.68210683e-01, -3.85368554e+00,\n",
              "         -7.78167496e-02,  5.74518464e-02,  1.03519230e-01,\n",
              "         -1.13943483e+03, -1.13943442e+03,  1.71754819e-02,\n",
              "          1.30129629e-05,  1.12087466e-04,  3.67523171e-07,\n",
              "          2.76238599e+04, -1.39993374e+05,  4.83607795e+02,\n",
              "          2.48932030e+04,  4.23001667e+03, -1.07576070e+01,\n",
              "          9.55780264e-01,  9.96658164e+02,  6.64770595e-01,\n",
              "         -1.57937720e+01, -5.57346453e-01, -3.57952224e+06,\n",
              "          8.60208159e+04,  2.50861904e+04, -1.23228949e+05,\n",
              "          1.42536529e+02, -2.57043584e+01,  3.60709114e+03,\n",
              "         -9.23571245e+01,  2.69393405e+02,  3.82402411e+00,\n",
              "          9.87278239e+03,  3.18196537e+03,  1.32133761e+04,\n",
              "         -3.20059263e-01, -4.49995880e+00, -1.01519458e+02,\n",
              "         -1.12399558e+01, -4.87064037e+00, -5.78197938e-02,\n",
              "          2.46373842e+03, -6.96002030e+03, -5.97278891e-01,\n",
              "          7.68975576e+00, -3.08141505e+02, -1.87873662e+01,\n",
              "          5.72929700e+01, -2.08663565e-01,  5.68798286e+03,\n",
              "          1.04630771e+01,  2.02772762e+01, -6.08115063e+02,\n",
              "         -3.97991208e+00, -2.13087359e+01, -4.28572917e-01,\n",
              "         -2.11076626e+02, -6.83781743e+02, -2.50891678e+02,\n",
              "         -2.55868048e+01,  4.18351943e+02,  3.43909248e+03,\n",
              "         -4.72788163e+02, -2.50761706e+02, -2.55725999e+01,\n",
              "          4.18354033e+02,  3.43909183e+03,  2.37442924e+01,\n",
              "          3.77011464e-01, -1.91528142e+00,  1.76351768e-02,\n",
              "          1.19260685e+00,  5.45111872e-02,  4.98355366e-05,\n",
              "          2.40790225e-02,  1.73651380e-04,  3.52005009e-06]]),\n",
              " array([82193602.28461158]))"
            ]
          },
          "metadata": {},
          "execution_count": 77
        }
      ]
    },
    {
      "cell_type": "code",
      "source": [
        "rmse_pol = mean_squared_error(y_test, y_pred, squared = False)\n",
        "r2_pol = r2_score(y_test, y_pred)\n",
        "mae_pol = metrics.mean_absolute_error(y_test, y_pred)\n",
        "\n",
        "print(f\"El error (rmse) de test es: {rmse_pol}\")\n",
        "print(f\"El R2 de test es: {r2_pol}\")\n",
        "print(f'Error medio Absoluto (MAE): {mae_pol}')"
      ],
      "metadata": {
        "id": "SZgcOTYJ8OQl",
        "outputId": "e5da6cbb-c672-48a9-f12c-550e6b981812",
        "colab": {
          "base_uri": "https://localhost:8080/"
        }
      },
      "execution_count": 78,
      "outputs": [
        {
          "output_type": "stream",
          "name": "stdout",
          "text": [
            "El error (rmse) de test es: 210804.0351655288\n",
            "El R2 de test es: 0.6621079062632002\n",
            "Error medio Absoluto (MAE): 136811.82686437044\n"
          ]
        }
      ]
    },
    {
      "cell_type": "markdown",
      "source": [
        "## Multiple Ridge"
      ],
      "metadata": {
        "id": "v2ylkoOe-kcG"
      }
    },
    {
      "cell_type": "code",
      "source": [
        "modelo = RidgeCV(alphas = np.logspace(-20, 20, 500), \n",
        "                 fit_intercept = True, \n",
        "                 normalize = True,\n",
        "                 store_cv_values = True)\n",
        "modelo.fit(X_train, y_train)"
      ],
      "metadata": {
        "id": "ttjOpoLl-obj",
        "outputId": "93b082a8-2f9c-4189-fb30-0315c273571a",
        "colab": {
          "base_uri": "https://localhost:8080/"
        }
      },
      "execution_count": 79,
      "outputs": [
        {
          "output_type": "execute_result",
          "data": {
            "text/plain": [
              "RidgeCV(alphas=array([1.00000000e-20, 1.20270833e-20, 1.44650734e-20, 1.73972643e-20,\n",
              "       2.09238348e-20, 2.51652705e-20, 3.02664806e-20, 3.64017485e-20,\n",
              "       4.37806863e-20, 5.26553963e-20, 6.33290840e-20, 7.61664172e-20,\n",
              "       9.16059848e-20, 1.10175281e-19, 1.32508729e-19, 1.59369353e-19,\n",
              "       1.91674849e-19, 2.30528939e-19, 2.77259076e-19, 3.33461802e-19,\n",
              "       4.01057288e-19, 4.82354943e-1...\n",
              "       1.43321923e+18, 1.72374471e+18, 2.07316213e+18, 2.49340937e+18,\n",
              "       2.99884423e+18, 3.60673495e+18, 4.33785019e+18, 5.21716858e+18,\n",
              "       6.27473213e+18, 7.54667263e+18, 9.07644607e+18, 1.09163173e+19,\n",
              "       1.31291459e+19, 1.57905331e+19, 1.89914058e+19, 2.28411221e+19,\n",
              "       2.74712079e+19, 3.30398507e+19, 3.97373038e+19, 4.77923865e+19,\n",
              "       5.74803016e+19, 6.91320378e+19, 8.31456781e+19, 1.00000000e+20]),\n",
              "        normalize=True, store_cv_values=True)"
            ]
          },
          "metadata": {},
          "execution_count": 79
        }
      ]
    },
    {
      "cell_type": "code",
      "source": [
        "alphas = modelo.alphas\n",
        "coefs = []\n",
        "\n",
        "for alpha in alphas:\n",
        "    modelo_temp = Ridge(alpha=alpha, fit_intercept=False, normalize=True)\n",
        "    modelo_temp.fit(X_train, y_train)\n",
        "    coefs.append(modelo_temp.coef_.flatten())\n",
        "\n",
        "fig, ax = plt.subplots(figsize=(15, 10))\n",
        "ax.plot(alphas, coefs)\n",
        "ax.set_xscale('log')\n",
        "ax.set_xlabel('alpha')\n",
        "ax.set_ylabel('coeficientes')\n",
        "ax.set_title('Coeficientes del modelo en función de la regularización');\n",
        "plt.axis('tight')\n",
        "plt.show()"
      ],
      "metadata": {
        "id": "tkml8I1U-tFo",
        "outputId": "5c13e2bd-edf1-4489-f009-09c5d298f3d7",
        "colab": {
          "base_uri": "https://localhost:8080/",
          "height": 625
        }
      },
      "execution_count": 80,
      "outputs": [
        {
          "output_type": "display_data",
          "data": {
            "text/plain": [
              "<Figure size 1080x720 with 1 Axes>"
            ],
            "image/png": "[encoded data removed]"
          },
          "metadata": {
            "needs_background": "light"
          }
        }
      ]
    },
    {
      "cell_type": "code",
      "source": [
        "mse_cv = modelo.cv_values_.reshape((-1, 500)).mean(axis=0)\n",
        "mse_sd = modelo.cv_values_.reshape((-1, 500)).std(axis=0)\n",
        "\n",
        "# Se aplica la raíz cuadrada para pasar de mse a rmse\n",
        "rmse_cv = np.sqrt(mse_cv)\n",
        "rmse_sd = np.sqrt(mse_sd)\n",
        "\n",
        "# Se identifica el óptimo y el óptimo + 1std\n",
        "min_rmse     = np.min(rmse_cv)\n",
        "sd_min_rmse  = rmse_sd[np.argmin(rmse_cv)]\n",
        "min_rsme_1sd = np.max(rmse_cv[rmse_cv <= min_rmse + sd_min_rmse])\n",
        "optimo       = modelo.alphas[np.argmin(rmse_cv)]\n",
        "optimo_1sd   = modelo.alphas[rmse_cv == min_rsme_1sd]\n",
        "\n",
        "\n",
        "# Gráfico del error +- 1 desviación estándar\n",
        "fig, ax = plt.subplots(figsize=(15, 10))\n",
        "ax.plot(modelo.alphas, rmse_cv)\n",
        "ax.fill_between(\n",
        "    modelo.alphas,\n",
        "    rmse_cv + rmse_sd,\n",
        "    rmse_cv - rmse_sd,\n",
        "    alpha=0.2\n",
        ")\n",
        "\n",
        "ax.axvline(\n",
        "    x         = optimo,\n",
        "    c         = \"gray\",\n",
        "    linestyle = '--',\n",
        "    label     = 'óptimo'\n",
        ")\n",
        "\n",
        "ax.axvline(\n",
        "    x         = optimo_1sd.any(),\n",
        "    c         = \"blue\",\n",
        "    linestyle = '--',\n",
        "    label     = 'óptimo_1sd'\n",
        ")\n",
        "ax.set_xscale('log')\n",
        "ax.set_title('Evolución del error CV en función de la regularización')\n",
        "ax.set_xlabel('alpha')\n",
        "ax.set_ylabel('RMSE')\n",
        "plt.legend();"
      ],
      "metadata": {
        "id": "s4P4ERU4-4Zc",
        "outputId": "0c6004f1-2e66-4080-9ae3-b20c2525cd4b",
        "colab": {
          "base_uri": "https://localhost:8080/",
          "height": 625
        }
      },
      "execution_count": 81,
      "outputs": [
        {
          "output_type": "display_data",
          "data": {
            "text/plain": [
              "<Figure size 1080x720 with 1 Axes>"
            ],
            "image/png": "[encoded data removed]"
          },
          "metadata": {
            "needs_background": "light"
          }
        }
      ]
    },
    {
      "cell_type": "code",
      "source": [
        "print(f\"Mejor valor de alpha encontrado: {modelo.alpha_}\")"
      ],
      "metadata": {
        "id": "0LzSXDcG_OR0",
        "outputId": "40dbb9c2-e494-4a18-d2d4-5803368d60a8",
        "colab": {
          "base_uri": "https://localhost:8080/"
        }
      },
      "execution_count": 82,
      "outputs": [
        {
          "output_type": "stream",
          "name": "stdout",
          "text": [
            "Mejor valor de alpha encontrado: 0.003590130377007061\n"
          ]
        }
      ]
    },
    {
      "cell_type": "code",
      "source": [
        "df_coeficientes = pd.DataFrame(\n",
        "                        {'predictor': X_train.columns,\n",
        "                         'coef': modelo.coef_.flatten()}\n",
        "                  )\n",
        "\n",
        "fig, ax = plt.subplots(figsize=(15, 10))\n",
        "ax.stem(df_coeficientes.predictor, df_coeficientes.coef, markerfmt=' ')\n",
        "plt.xticks(rotation=90, ha='right', size=5)\n",
        "ax.set_xlabel('variable')\n",
        "ax.set_ylabel('coeficientes')\n",
        "ax.set_title('Coeficientes del modelo');"
      ],
      "metadata": {
        "id": "4hJCIgOs_VrF",
        "outputId": "0dd5918e-0dc7-49fc-be79-7479d5482150",
        "colab": {
          "base_uri": "https://localhost:8080/",
          "height": 648
        }
      },
      "execution_count": 83,
      "outputs": [
        {
          "output_type": "display_data",
          "data": {
            "text/plain": [
              "<Figure size 1080x720 with 1 Axes>"
            ],
            "image/png": "[encoded data removed]"
          },
          "metadata": {
            "needs_background": "light"
          }
        }
      ]
    },
    {
      "cell_type": "code",
      "source": [
        "y_pred = modelo.predict(X_test)\n",
        "y_pred = y_pred.flatten()\n",
        "y_pred[:10]"
      ],
      "metadata": {
        "id": "SANOH_ym_XyX",
        "outputId": "7a37a818-9c80-4f00-a17f-893560e99dd9",
        "colab": {
          "base_uri": "https://localhost:8080/"
        }
      },
      "execution_count": 84,
      "outputs": [
        {
          "output_type": "execute_result",
          "data": {
            "text/plain": [
              "array([ 540181.84748407,  599149.90001791, 1083791.36641518,\n",
              "        298194.40685522,  473351.19490065,  211389.89783323,\n",
              "        639641.68683688,  565211.96959628,  559191.23910948,\n",
              "        559387.4021283 ])"
            ]
          },
          "metadata": {},
          "execution_count": 84
        }
      ]
    },
    {
      "cell_type": "code",
      "source": [
        "rmse_ridge = mean_squared_error(y_test, y_pred, squared = False)\n",
        "r2_ridge = r2_score(y_test, y_pred)\n",
        "mae_ridge = metrics.mean_absolute_error(y_test, y_pred)\n",
        "\n",
        "print(f\"El error (rmse) de test es: {rmse_ridge}\")\n",
        "print(f\"El R2 de test es: {r2_ridge}\")\n",
        "print(f'Error medio Absoluto (MAE): {mae_ridge}')"
      ],
      "metadata": {
        "id": "I5cRzfcy_kGB",
        "outputId": "28e631d8-3f00-44ee-cf1e-2b84ab055f4f",
        "colab": {
          "base_uri": "https://localhost:8080/"
        }
      },
      "execution_count": 85,
      "outputs": [
        {
          "output_type": "stream",
          "name": "stdout",
          "text": [
            "El error (rmse) de test es: 211905.59555353379\n",
            "El R2 de test es: 0.6585673569856612\n",
            "Error medio Absoluto (MAE): 138873.25531799262\n"
          ]
        }
      ]
    },
    {
      "cell_type": "markdown",
      "source": [
        "## Multiple Lasso"
      ],
      "metadata": {
        "id": "VhjYuNtS8vpi"
      }
    },
    {
      "cell_type": "code",
      "source": [
        "modelo = LassoCV(alphas = np.logspace(-5, 5, 500), normalize = True, cv = 10)\n",
        "modelo.fit(X = X_train, y = y_train)"
      ],
      "metadata": {
        "id": "hOeNhpw08SUk",
        "outputId": "ae755d7e-4d3e-407a-bbd0-7ec93b8327ba",
        "colab": {
          "base_uri": "https://localhost:8080/"
        }
      },
      "execution_count": 86,
      "outputs": [
        {
          "output_type": "execute_result",
          "data": {
            "text/plain": [
              "LassoCV(alphas=array([1.00000000e-05, 1.04722519e-05, 1.09668060e-05, 1.14847155e-05,\n",
              "       1.20270833e-05, 1.25950646e-05, 1.31898690e-05, 1.38127630e-05,\n",
              "       1.44650734e-05, 1.51481892e-05, 1.58635653e-05, 1.66127252e-05,\n",
              "       1.73972643e-05, 1.82188534e-05, 1.90792422e-05, 1.99802631e-05,\n",
              "       2.09238348e-05, 2.19119669e-05, 2.29467637e-05, 2.40304289e-05,\n",
              "       2.51652705e-05, 2.63537052e-0...\n",
              "       3.46001639e+04, 3.62341632e+04, 3.79453285e+04, 3.97373038e+04,\n",
              "       4.16139055e+04, 4.35791301e+04, 4.56371628e+04, 4.77923865e+04,\n",
              "       5.00493910e+04, 5.24129830e+04, 5.48881961e+04, 5.74803016e+04,\n",
              "       6.01948197e+04, 6.30375315e+04, 6.60144909e+04, 6.91320378e+04,\n",
              "       7.23968114e+04, 7.58157646e+04, 7.93961785e+04, 8.31456781e+04,\n",
              "       8.70722485e+04, 9.11842520e+04, 9.54904456e+04, 1.00000000e+05]),\n",
              "        cv=10, normalize=True)"
            ]
          },
          "metadata": {},
          "execution_count": 86
        }
      ]
    },
    {
      "cell_type": "code",
      "source": [
        "alphas = modelo.alphas_\n",
        "coefs = []\n",
        "\n",
        "for alpha in alphas:\n",
        "    modelo_temp = Lasso(alpha=alpha, fit_intercept=False, normalize=True)\n",
        "    modelo_temp.fit(X_train, y_train)\n",
        "    coefs.append(modelo_temp.coef_.flatten())\n",
        "\n",
        "fig, ax = plt.subplots(figsize=(15, 10))\n",
        "ax.plot(alphas, coefs)\n",
        "ax.set_xscale('log')\n",
        "ax.set_xlabel('alpha')\n",
        "ax.set_ylabel('coeficientes')\n",
        "ax.set_title('Coeficientes del modelo en función de la regularización');"
      ],
      "metadata": {
        "id": "BmGlVq8a802h",
        "outputId": "ce060c68-51b9-43eb-baa9-79b661883810",
        "colab": {
          "base_uri": "https://localhost:8080/",
          "height": 625
        }
      },
      "execution_count": 87,
      "outputs": [
        {
          "output_type": "display_data",
          "data": {
            "text/plain": [
              "<Figure size 1080x720 with 1 Axes>"
            ],
            "image/png": "[encoded data removed]"
          },
          "metadata": {
            "needs_background": "light"
          }
        }
      ]
    },
    {
      "cell_type": "code",
      "source": [
        "alphas = modelo.alphas_\n",
        "n_predictores = []\n",
        "\n",
        "for alpha in alphas:\n",
        "    modelo_temp = Lasso(alpha=alpha, fit_intercept=False, normalize=True)\n",
        "    modelo_temp.fit(X_train, y_train)\n",
        "    coef_no_cero = np.sum(modelo_temp.coef_.flatten() != 0)\n",
        "    n_predictores.append(coef_no_cero)\n",
        "\n",
        "fig, ax = plt.subplots(figsize=(15, 10))\n",
        "ax.plot(alphas, n_predictores)\n",
        "ax.set_xscale('log')\n",
        "ax.set_xlabel('alpha')\n",
        "ax.set_ylabel('nº predictores')\n",
        "ax.set_title('Predictores incluidos en función de la regularización');"
      ],
      "metadata": {
        "id": "V1RecMv-96r-",
        "outputId": "c7ef5e8b-8742-49a2-e421-691fa966e3de",
        "colab": {
          "base_uri": "https://localhost:8080/",
          "height": 625
        }
      },
      "execution_count": 88,
      "outputs": [
        {
          "output_type": "display_data",
          "data": {
            "text/plain": [
              "<Figure size 1080x720 with 1 Axes>"
            ],
            "image/png": "[encoded data removed]"
          },
          "metadata": {
            "needs_background": "light"
          }
        }
      ]
    },
    {
      "cell_type": "code",
      "source": [
        "mse_cv = modelo.mse_path_.mean(axis=1)\n",
        "mse_sd = modelo.mse_path_.std(axis=1)\n",
        "\n",
        "# Se aplica la raíz cuadrada para pasar de mse a rmse\n",
        "rmse_cv = np.sqrt(mse_cv)\n",
        "rmse_sd = np.sqrt(mse_sd)\n",
        "\n",
        "# Se identifica el óptimo y el óptimo + 1std\n",
        "min_rmse     = np.min(rmse_cv)\n",
        "sd_min_rmse  = rmse_sd[np.argmin(rmse_cv)]\n",
        "min_rsme_1sd = np.max(rmse_cv[rmse_cv <= min_rmse + sd_min_rmse])\n",
        "optimo       = modelo.alphas_[np.argmin(rmse_cv)]\n",
        "optimo_1sd   = modelo.alphas_[rmse_cv == min_rsme_1sd]\n",
        "\n",
        "# Gráfico del error +- 1 desviación estándar\n",
        "fig, ax = plt.subplots(figsize=(15, 10))\n",
        "ax.plot(modelo.alphas_, rmse_cv)\n",
        "ax.fill_between(\n",
        "    modelo.alphas_,\n",
        "    rmse_cv + rmse_sd,\n",
        "    rmse_cv - rmse_sd,\n",
        "    alpha=0.2\n",
        ")\n",
        "\n",
        "ax.axvline(\n",
        "    x         = optimo,\n",
        "    c         = \"gray\",\n",
        "    linestyle = '--',\n",
        "    label     = 'óptimo'\n",
        ")\n",
        "\n",
        "ax.axvline(\n",
        "    x         = optimo_1sd,\n",
        "    c         = \"blue\",\n",
        "    linestyle = '--',\n",
        "    label     = 'óptimo_1sd'\n",
        ")\n",
        "\n",
        "ax.set_xscale('log')\n",
        "ax.set_title('Evolución del error CV en función de la regularización')\n",
        "ax.set_xlabel('alpha')\n",
        "ax.set_ylabel('RMSE')\n",
        "plt.legend();"
      ],
      "metadata": {
        "id": "pz2lGk1f9bS0",
        "outputId": "aabcc9cb-01d7-4ad5-c961-67d18e274c97",
        "colab": {
          "base_uri": "https://localhost:8080/",
          "height": 625
        }
      },
      "execution_count": 89,
      "outputs": [
        {
          "output_type": "display_data",
          "data": {
            "text/plain": [
              "<Figure size 1080x720 with 1 Axes>"
            ],
            "image/png": "[encoded data removed]"
          },
          "metadata": {
            "needs_background": "light"
          }
        }
      ]
    },
    {
      "cell_type": "code",
      "source": [
        "print(f\"Mejor valor de alpha encontrado: {modelo.alpha_}\")"
      ],
      "metadata": {
        "id": "bd2TVeWR9xdx",
        "outputId": "2d12b709-be32-4c76-de2f-193bf68d6f28",
        "colab": {
          "base_uri": "https://localhost:8080/"
        }
      },
      "execution_count": 90,
      "outputs": [
        {
          "output_type": "stream",
          "name": "stdout",
          "text": [
            "Mejor valor de alpha encontrado: 2.141220154815727\n"
          ]
        }
      ]
    },
    {
      "cell_type": "code",
      "source": [
        "min_rmse     = np.min(rmse_cv)\n",
        "sd_min_rmse  = rmse_sd[np.argmin(rmse_cv)]\n",
        "min_rsme_1sd = np.max(rmse_cv[rmse_cv <= min_rmse + sd_min_rmse])\n",
        "optimo       = modelo.alphas_[np.argmin(rmse_cv)]\n",
        "optimo_1sd   = modelo.alphas_[rmse_cv == min_rsme_1sd]\n",
        "\n",
        "print(f\"Mejor valor de alpha encontrado + 1 desviación estándar: {optimo_1sd}\")"
      ],
      "metadata": {
        "id": "LnL_RSi1-KR2",
        "outputId": "2ecd41fe-8478-4cd3-8d56-cb91f57b1b75",
        "colab": {
          "base_uri": "https://localhost:8080/"
        }
      },
      "execution_count": 91,
      "outputs": [
        {
          "output_type": "stream",
          "name": "stdout",
          "text": [
            "Mejor valor de alpha encontrado + 1 desviación estándar: [1191.6598431]\n"
          ]
        }
      ]
    },
    {
      "cell_type": "code",
      "source": [
        "modelo = Lasso(alpha=optimo_1sd, normalize=True)\n",
        "modelo.fit(X_train, y_train)"
      ],
      "metadata": {
        "id": "g750jidL-QbV",
        "outputId": "97a80883-e106-4034-9c11-6b06cdb6aa56",
        "colab": {
          "base_uri": "https://localhost:8080/"
        }
      },
      "execution_count": 92,
      "outputs": [
        {
          "output_type": "execute_result",
          "data": {
            "text/plain": [
              "Lasso(alpha=array([1191.6598431]), normalize=True)"
            ]
          },
          "metadata": {},
          "execution_count": 92
        }
      ]
    },
    {
      "cell_type": "code",
      "source": [
        "predicciones = modelo.predict(X=X_test)\n",
        "predicciones = predicciones.flatten()\n",
        "predicciones[:10]"
      ],
      "metadata": {
        "id": "Nu2g_IVC-XDn",
        "outputId": "4af01043-3605-4dc7-818e-a6485b13a008",
        "colab": {
          "base_uri": "https://localhost:8080/"
        }
      },
      "execution_count": 93,
      "outputs": [
        {
          "output_type": "execute_result",
          "data": {
            "text/plain": [
              "array([543399.70862747, 586098.09541111, 753419.77733874, 487922.33122648,\n",
              "       543399.70862747, 407537.56153504, 562969.80256997, 624348.73357145,\n",
              "       497707.37819773, 553184.75559872])"
            ]
          },
          "metadata": {},
          "execution_count": 93
        }
      ]
    },
    {
      "cell_type": "code",
      "source": [
        "rmse_lasso = mean_squared_error(y_test, y_pred, squared = False)\n",
        "r2_lasso = r2_score(y_test, y_pred)\n",
        "mae_lasso = metrics.mean_absolute_error(y_test, y_pred)\n",
        "\n",
        "print(f\"El error (rmse) de test es: {rmse_lasso}\")\n",
        "print(f\"El R2 de test es: {r2_lasso}\")\n",
        "print(f'Error medio Absoluto (MAE): {mae_lasso}')"
      ],
      "metadata": {
        "id": "wL2MJcai-cSZ",
        "outputId": "e04f50b1-a01c-469d-8bb6-5b8ae86d9a54",
        "colab": {
          "base_uri": "https://localhost:8080/"
        }
      },
      "execution_count": 94,
      "outputs": [
        {
          "output_type": "stream",
          "name": "stdout",
          "text": [
            "El error (rmse) de test es: 211905.59555353379\n",
            "El R2 de test es: 0.6585673569856612\n",
            "Error medio Absoluto (MAE): 138873.25531799262\n"
          ]
        }
      ]
    },
    {
      "cell_type": "markdown",
      "source": [
        "## Comparación"
      ],
      "metadata": {
        "id": "smDuXZKL_pDX"
      }
    },
    {
      "cell_type": "markdown",
      "source": [
        "### RMSE"
      ],
      "metadata": {
        "id": "MhP4vEV9_rjk"
      }
    },
    {
      "cell_type": "code",
      "source": [
        "df_comparacion = pd.DataFrame({\n",
        "                    'modelo': ['Lineal', 'Polinomial', 'Ridge', 'Lasso'],\n",
        "                    'test rmse': [rmse_lin, rmse_pol, rmse_ridge, rmse_lasso]\n",
        "                 })\n",
        "\n",
        "fig, ax = plt.subplots(figsize=(15, 10))\n",
        "df_comparacion.set_index('modelo').plot(kind='barh', ax=ax)\n",
        "ax.set_xlabel('rmse')\n",
        "ax.set_ylabel('modelo')\n",
        "ax.set_title('Comparación de modelos');"
      ],
      "metadata": {
        "id": "o4OzBQLC_zv5",
        "outputId": "d92a4ce6-8ee0-4c7f-809d-2bf97686ab4c",
        "colab": {
          "base_uri": "https://localhost:8080/",
          "height": 621
        }
      },
      "execution_count": 95,
      "outputs": [
        {
          "output_type": "display_data",
          "data": {
            "text/plain": [
              "<Figure size 1080x720 with 1 Axes>"
            ],
            "image/png": "[encoded data removed]"
          },
          "metadata": {
            "needs_background": "light"
          }
        }
      ]
    },
    {
      "cell_type": "markdown",
      "source": [
        "### R2"
      ],
      "metadata": {
        "id": "27mopk9__tL4"
      }
    },
    {
      "cell_type": "code",
      "source": [
        "df_comparacion = pd.DataFrame({\n",
        "                    'modelo': ['Lineal', 'Polinomial', 'Ridge', 'Lasso'],\n",
        "                    'test rmse': [r2_lin, r2_pol, r2_ridge, r2_lasso]\n",
        "                 })\n",
        "\n",
        "fig, ax = plt.subplots(figsize=(15, 10))\n",
        "df_comparacion.set_index('modelo').plot(kind='barh', ax=ax)\n",
        "ax.set_xlabel('R2')\n",
        "ax.set_ylabel('modelo')\n",
        "ax.set_title('Comparación de modelos');"
      ],
      "metadata": {
        "id": "j4Y99a6D_3TW",
        "outputId": "b36cef93-41b4-418b-871b-dbe22565e5f6",
        "colab": {
          "base_uri": "https://localhost:8080/",
          "height": 621
        }
      },
      "execution_count": 96,
      "outputs": [
        {
          "output_type": "display_data",
          "data": {
            "text/plain": [
              "<Figure size 1080x720 with 1 Axes>"
            ],
            "image/png": "[encoded data removed]"
          },
          "metadata": {
            "needs_background": "light"
          }
        }
      ]
    },
    {
      "cell_type": "markdown",
      "source": [
        "### MAE"
      ],
      "metadata": {
        "id": "FTFRaNRA_wck"
      }
    },
    {
      "cell_type": "code",
      "source": [
        "df_comparacion = pd.DataFrame({\n",
        "                    'modelo': ['Lineal', 'Polinomial', 'Ridge', 'Lasso'],\n",
        "                    'test rmse': [mae_lin, mae_pol, mae_ridge, mae_lasso]\n",
        "                 })\n",
        "\n",
        "fig, ax = plt.subplots(figsize=(15, 10))\n",
        "df_comparacion.set_index('modelo').plot(kind='barh', ax=ax)\n",
        "ax.set_xlabel('MAE')\n",
        "ax.set_ylabel('modelo')\n",
        "ax.set_title('Comparación de modelos');"
      ],
      "metadata": {
        "id": "CS1aYAt6-iGF",
        "outputId": "4dc488be-17b9-4382-f9ea-83634ebf4b4b",
        "colab": {
          "base_uri": "https://localhost:8080/",
          "height": 621
        }
      },
      "execution_count": 97,
      "outputs": [
        {
          "output_type": "display_data",
          "data": {
            "text/plain": [
              "<Figure size 1080x720 with 1 Axes>"
            ],
            "image/png": "[encoded data removed]"
          },
          "metadata": {
            "needs_background": "light"
          }
        }
      ]
    },
    {
      "cell_type": "markdown",
      "source": [
        "## Conclusiones"
      ],
      "metadata": {
        "id": "_NFG3nrDAFVN"
      }
    },
    {
      "cell_type": "markdown",
      "source": [
        "Para el ejercicio dividimos nuestros datos en 80% entrenamiento y 20% evaluación.\n",
        "\n",
        "En este ejercicio no nos podemos ayudar de la distribución de los datos porque se trata de un caso multivariable que excede de 3 dimensiones. POr lo tanto la evaluación del mejor modelo lo basamos en sus métricas RMSE, R2 y MAE. Para este caso multivariable todos los modelos se parecen mucho en su desempeño, sin embargo el mejor modelo obtenido fue entre el Ridge, seguido del Lasso."
      ],
      "metadata": {
        "id": "E0l_riJDAJyJ"
      }
    },
    {
      "cell_type": "code",
      "source": [],
      "metadata": {
        "id": "kWKqSASZB3hN"
      },
      "execution_count": null,
      "outputs": []
    }
  ]
}