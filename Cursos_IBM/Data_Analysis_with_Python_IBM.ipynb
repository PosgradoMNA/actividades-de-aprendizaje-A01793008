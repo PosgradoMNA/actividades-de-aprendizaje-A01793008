{
  "nbformat": 4,
  "nbformat_minor": 0,
  "metadata": {
    "colab": {
      "provenance": [],
      "authorship_tag": "ABX9TyMIlyJYitk4rDWUPXA2RbO4",
      "include_colab_link": true
    },
    "kernelspec": {
      "name": "python3",
      "display_name": "Python 3"
    },
    "language_info": {
      "name": "python"
    }
  },
  "cells": [
    {
      "cell_type": "markdown",
      "metadata": {
        "id": "view-in-github",
        "colab_type": "text"
      },
      "source": [
        "<a href=\"https://colab.research.google.com/github/PosgradoMNA/actividades-de-aprendizaje-A01793008/blob/main/Cursos_IBM/Data_Analysis_with_Python_IBM.ipynb\" target=\"_parent\"><img src=\"https://colab.research.google.com/assets/colab-badge.svg\" alt=\"Open In Colab\"/></a>"
      ]
    },
    {
      "cell_type": "markdown",
      "source": [
        "# Actividad de la semana 4\n",
        "## Maestría en Inteligencia Artificial Aplicada\n",
        "### Curso: Ciencia y analítica de datos\n",
        "### Tecnológico de Monterrey\n",
        "#### Prof Jobish Vallikavungal\n",
        "### **Nombre del estudiante:** Omar Nayib García Sabag\n",
        "### **Matrícula:** A01793008"
      ],
      "metadata": {
        "id": "KAiL1Hn-4UBb"
      }
    },
    {
      "cell_type": "code",
      "source": [],
      "metadata": {
        "id": "WGOL9lkO4XxL"
      },
      "execution_count": null,
      "outputs": []
    }
  ]
}